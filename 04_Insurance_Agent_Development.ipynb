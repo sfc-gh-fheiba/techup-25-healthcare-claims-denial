{
  "cells": [
    {
      "cell_type": "markdown",
      "metadata": {},
      "source": [
        "# Insurance Agent Development\n",
        "\n",
        "This notebook creates and tests the Insurance Agent for adversarial claim validation with **structured JSON rebuttal output**.\n",
        "\n",
        "**Prerequisites:**\n",
        "- **MUST run all previous notebooks first**:\n",
        "  - `01_Data_Views_for_Agent_Workflows.ipynb` \n",
        "  - `02_Builder_Agent_Development.ipynb`\n",
        "  - `03_Builder_Agent_Configuration.ipynb`\n",
        "- Cortex Complete service enabled\n",
        "- Builder Agent function created and working\n",
        "\n",
        "**What this does:**\n",
        "- Create Insurance Agent function for claim analysis\n",
        "- Test adversarial validation with denial logic\n",
        "- Generate structured JSON rebuttals with strength scores\n",
        "- Test dual-agent optimization workflow\n",
        "- Validate end-to-end Builder ↔ Insurance Agent interaction\n",
        "\n",
        "**GOAL:** Insurance Agent wants to deny claims while staying within Cigna policy framework.\n"
      ]
    },
    {
      "cell_type": "markdown",
      "metadata": {},
      "source": [
        "## Step 1: Insurance Agent Function Creation\n",
        "\n",
        "Create the Insurance Agent function for adversarial claim validation.\n"
      ]
    },
    {
      "cell_type": "code",
      "execution_count": null,
      "metadata": {
        "vscode": {
          "languageId": "sql"
        }
      },
      "outputs": [],
      "source": [
        "-- Create Insurance Agent function for adversarial validation\n",
        "CREATE OR REPLACE FUNCTION CLAIMS_DEMO.PUBLIC.INSURANCE_AGENT(claim_json VARCHAR)\n",
        "RETURNS VARCHAR  \n",
        "LANGUAGE SQL\n",
        "AS\n",
        "$$\n",
        "    SELECT SNOWFLAKE.CORTEX.COMPLETE(\n",
        "        'snowflake-arctic',\n",
        "        'You are an Insurance Agent for Cigna. Analyze this claim and provide a rebuttal with strength score: ' || claim_json || '. Your goal is to deny claims within policy framework. Generate JSON response: {\"rebuttal_summary\":\"string\",\"denial_reasons\":[\"string\"],\"strength_score\":number,\"recommended_improvements\":[\"string\"]}. Be strict but fair per Cigna policies. ONLY JSON output.'\n",
        "    )\n",
        "$$;\n"
      ]
    },
    {
      "cell_type": "code",
      "execution_count": null,
      "metadata": {
        "vscode": {
          "languageId": "sql"
        }
      },
      "outputs": [],
      "source": [
        "-- Register Insurance Agent in the registry\n",
        "INSERT INTO CLAIMS_DEMO.PUBLIC.CORTEX_AGENTS_REGISTRY (AGENT_ID, AGENT_NAME, AGENT_TYPE, MODEL_NAME, SYSTEM_PROMPT, INPUT_SCHEMA, OUTPUT_SCHEMA, STATUS) VALUES (\n",
        "    'INSURANCE_AGENT_V1',\n",
        "    'Cigna Insurance Validator Agent',\n",
        "    'CLAIM_VALIDATOR',\n",
        "    'snowflake-arctic', \n",
        "    'Insurance Agent for analyzing claims and providing rebuttals with strength scores. Goal: deny claims within Cigna policy framework.',\n",
        "    'Input: {claim_json}',\n",
        "    'Output: JSON with rebuttal_summary, denial_reasons, strength_score, recommended_improvements',\n",
        "    'ACTIVE'\n",
        ");\n"
      ]
    },
    {
      "cell_type": "markdown",
      "metadata": {},
      "source": [
        "## Step 2: Test Insurance Agent\n",
        "\n",
        "Test the Insurance Agent with sample claims to verify adversarial behavior.\n"
      ]
    },
    {
      "cell_type": "code",
      "execution_count": null,
      "metadata": {
        "vscode": {
          "languageId": "sql"
        }
      },
      "outputs": [],
      "source": [
        "-- Test Insurance Agent with sample claim\n",
        "SELECT CLAIMS_DEMO.PUBLIC.INSURANCE_AGENT('{\"claim_header\":{\"claim_id\":\"CLM-2024-001\",\"patient_id\":\"PAT_001\",\"insurance_provider\":\"Cigna\"},\"claim_details\":{\"procedure_codes\":[\"85025\"]},\"billing_info\":{\"total_charges\":75.00}}') as INSURANCE_AGENT_REBUTTAL;\n"
      ]
    },
    {
      "cell_type": "markdown",
      "metadata": {},
      "source": [
        "## Step 3: Dual-Agent Workflow Test\n",
        "\n",
        "Test the complete iterative workflow: Builder Agent → Insurance Agent → Builder Agent optimization.\n"
      ]
    },
    {
      "cell_type": "code",
      "execution_count": null,
      "metadata": {
        "vscode": {
          "languageId": "sql"
        }
      },
      "outputs": [],
      "source": [
        "-- Complete dual-agent workflow test\n",
        "WITH step1 AS (\n",
        "    SELECT CLAIMS_DEMO.PUBLIC.BUILDER_AGENT('PAT_001', '85025', 'Annual wellness screening') as INITIAL_CLAIM\n",
        "),\n",
        "step2 AS (\n",
        "    SELECT \n",
        "        INITIAL_CLAIM,\n",
        "        CLAIMS_DEMO.PUBLIC.INSURANCE_AGENT(INITIAL_CLAIM) as REBUTTAL\n",
        "    FROM step1\n",
        ")\n",
        "SELECT \n",
        "    'DUAL_AGENT_WORKFLOW_TEST' as TEST_TYPE,\n",
        "    INITIAL_CLAIM,\n",
        "    REBUTTAL,\n",
        "    CASE WHEN INITIAL_CLAIM LIKE '%{%' AND REBUTTAL LIKE '%{%' THEN 'SUCCESS' ELSE 'FAILED' END as WORKFLOW_STATUS\n",
        "FROM step2;\n"
      ]
    },
    {
      "cell_type": "markdown",
      "metadata": {},
      "source": [
        "## Step 4: Agent Registry Verification\n",
        "\n",
        "Verify both agents are registered and active in our system.\n"
      ]
    },
    {
      "cell_type": "code",
      "execution_count": null,
      "metadata": {
        "vscode": {
          "languageId": "sql"
        }
      },
      "outputs": [],
      "source": [
        "-- Verify both agents are registered and active\n",
        "SELECT \n",
        "    AGENT_ID,\n",
        "    AGENT_NAME,\n",
        "    AGENT_TYPE,\n",
        "    MODEL_NAME,\n",
        "    STATUS,\n",
        "    LEFT(SYSTEM_PROMPT, 80) as PROMPT_PREVIEW\n",
        "FROM CLAIMS_DEMO.PUBLIC.CORTEX_AGENTS_REGISTRY \n",
        "ORDER BY AGENT_TYPE;\n"
      ]
    },
    {
      "cell_type": "markdown",
      "metadata": {},
      "source": [
        "## Step 5: Final Confirmation\n",
        "\n",
        "Confirm dual-agent system is ready for frontend integration.\n"
      ]
    },
    {
      "cell_type": "code",
      "execution_count": null,
      "metadata": {
        "vscode": {
          "languageId": "sql"
        }
      },
      "outputs": [],
      "source": [
        "-- Final confirmation: Dual-agent system ready\n",
        "SELECT \n",
        "    'DUAL_AGENT_SYSTEM_COMPLETE' as STATUS,\n",
        "    'Builder Agent: Generates JSON claims' as BUILDER_STATUS,\n",
        "    'Insurance Agent: Provides JSON rebuttals' as INSURANCE_STATUS,\n",
        "    'Ready for Frontend Development (Phase 7)' as NEXT_PHASE;\n"
      ]
    }
  ],
  "metadata": {
    "language_info": {
      "name": "python"
    }
  },
  "nbformat": 4,
  "nbformat_minor": 2
}
