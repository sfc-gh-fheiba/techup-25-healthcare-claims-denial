{
  "cells": [
    {
      "cell_type": "markdown",
      "metadata": {},
      "source": [
        "# Builder Agent Development\n",
        "\n",
        "This notebook configures the Builder Agent for generating optimized insurance claims with **structured JSON output**.\n",
        "\n",
        "**Prerequisites:**\n",
        "- **MUST run `01_Data_Views_for_Agent_Workflows.ipynb` first**\n",
        "- Cortex Complete service enabled\n",
        "- All data foundation tables/views from previous notebook\n",
        "\n",
        "**What this builds:**\n",
        "- JSON schema for structured claim output\n",
        "- Builder Agent configuration with prompts\n",
        "- Claim generation and optimization logic\n",
        "- API endpoint definitions\n",
        "- Data integration for agent queries\n",
        "\n",
        "**CRITICAL:** Builder Agent enforces structured JSON output - no free text responses allowed.\n"
      ]
    },
    {
      "cell_type": "markdown",
      "metadata": {},
      "source": [
        "## Step 1: JSON Schema Definition\n",
        "\n",
        "Define the structured JSON format that the Builder Agent must output for insurance claims.\n"
      ]
    },
    {
      "cell_type": "code",
      "execution_count": null,
      "metadata": {
        "vscode": {
          "languageId": "plaintext"
        }
      },
      "outputs": [],
      "source": [
        "CREATE TABLE IF NOT EXISTS CLAIMS_DEMO.PUBLIC.INSURANCE_CLAIM_SCHEMA (\n",
        "    SCHEMA_VERSION VARCHAR(10) PRIMARY KEY,\n",
        "    JSON_SCHEMA_TEXT TEXT,\n",
        "    SCHEMA_DESCRIPTION TEXT,\n",
        "    CREATED_DATE TIMESTAMP DEFAULT CURRENT_TIMESTAMP()\n",
        ");\n"
      ]
    },
    {
      "cell_type": "code",
      "execution_count": null,
      "metadata": {
        "vscode": {
          "languageId": "plaintext"
        }
      },
      "outputs": [],
      "source": [
        "snow --config-file ./config.toml sql -q \"\n",
        "INSERT INTO CLAIMS_DEMO.PUBLIC.INSURANCE_CLAIM_SCHEMA (SCHEMA_VERSION, JSON_SCHEMA_TEXT, SCHEMA_DESCRIPTION) VALUES\n",
        "('v1.0', \n",
        "'{\\\"claim_header\\\":{\\\"claim_id\\\":\\\"CLM-YYYY-XXXXXX\\\",\\\"claim_date\\\":\\\"YYYY-MM-DD\\\",\\\"patient_id\\\":\\\"PAT_XXX\\\",\\\"provider_npi\\\":\\\"1234567890\\\",\\\"insurance_provider\\\":\\\"Cigna\\\",\\\"policy_number\\\":\\\"string\\\",\\\"group_number\\\":\\\"string\\\"},\\\"patient_info\\\":{\\\"first_name\\\":\\\"string\\\",\\\"last_name\\\":\\\"string\\\",\\\"date_of_birth\\\":\\\"YYYY-MM-DD\\\",\\\"gender\\\":\\\"Male/Female\\\",\\\"medical_history\\\":\\\"string\\\",\\\"allergies\\\":\\\"string\\\",\\\"current_medications\\\":\\\"string\\\"},\\\"claim_details\\\":{\\\"procedure_codes\\\":[\\\"85025\\\",\\\"80053\\\"],\\\"diagnosis_codes\\\":[\\\"I10\\\",\\\"E785\\\"],\\\"service_date\\\":\\\"YYYY-MM-DD\\\",\\\"place_of_service\\\":\\\"11\\\",\\\"clinical_notes\\\":\\\"string\\\",\\\"medical_necessity_statement\\\":\\\"string\\\"},\\\"billing_info\\\":{\\\"total_charges\\\":150.00,\\\"line_items\\\":[{\\\"procedure_code\\\":\\\"85025\\\",\\\"description\\\":\\\"Complete Blood Count\\\",\\\"quantity\\\":1,\\\"unit_charge\\\":75.00,\\\"total_charge\\\":75.00,\\\"modifiers\\\":[]}]},\\\"supporting_documentation\\\":{\\\"physician_notes\\\":\\\"string\\\",\\\"prior_authorization_number\\\":\\\"string or null\\\",\\\"referral_information\\\":\\\"string or null\\\",\\\"additional_documentation\\\":\\\"string\\\"}}',\n",
        "'Standard insurance claim JSON structure for Builder Agent output with all required Cigna fields');\n",
        "\" -c healthcare_claims_demo\n"
      ]
    },
    {
      "cell_type": "markdown",
      "metadata": {},
      "source": [
        "## Step 2: Builder Agent Configuration\n",
        "\n",
        "Configure the Builder Agent with system prompts and **mandatory JSON output** requirements.\n"
      ]
    },
    {
      "cell_type": "code",
      "execution_count": null,
      "metadata": {
        "vscode": {
          "languageId": "plaintext"
        }
      },
      "outputs": [],
      "source": [
        "CREATE TABLE IF NOT EXISTS CLAIMS_DEMO.PUBLIC.BUILDER_AGENT_CONFIG (\n",
        "    CONFIG_ID VARCHAR(20) PRIMARY KEY,\n",
        "    AGENT_NAME VARCHAR(100),\n",
        "    SYSTEM_PROMPT TEXT,\n",
        "    OUTPUT_FORMAT_REQUIREMENT TEXT,\n",
        "    DATA_SOURCES TEXT,\n",
        "    CREATED_DATE TIMESTAMP DEFAULT CURRENT_TIMESTAMP()\n",
        ");\n"
      ]
    },
    {
      "cell_type": "code",
      "execution_count": null,
      "metadata": {
        "vscode": {
          "languageId": "plaintext"
        }
      },
      "outputs": [],
      "source": [
        "INSERT INTO CLAIMS_DEMO.PUBLIC.BUILDER_AGENT_CONFIG (CONFIG_ID, AGENT_NAME, SYSTEM_PROMPT, OUTPUT_FORMAT_REQUIREMENT, DATA_SOURCES) VALUES\n",
        "('BUILDER_V1', \n",
        "'Claims Builder Agent',\n",
        "'You are a Builder Agent specialized in creating optimized insurance claims for Cigna. Your role: 1) Gather patient info, procedure details, clinical notes 2) Generate properly formatted claims optimized for Cigna approval 3) When receiving rebuttal feedback, strengthen claims to address issues. Reference Cigna policies and successful patterns.',\n",
        "'MANDATORY: Output ONLY valid JSON following the insurance claim schema. No additional text or explanations. JSON must include: claim_header, patient_info, claim_details, billing_info, supporting_documentation.',\n",
        "'PATIENTS, COMMON_PROCEDURES, CIGNA_POLICY_RULES, AGENT_POLICY_LOOKUP, BUILDER_AGENT_SUCCESS_GUIDE');\n"
      ]
    },
    {
      "cell_type": "markdown",
      "metadata": {},
      "source": [
        "## Step 3: Claim Generation Prompts\n",
        "\n",
        "Create specialized prompts for initial claim generation and iterative optimization with **structured JSON output**.\n"
      ]
    },
    {
      "cell_type": "code",
      "execution_count": null,
      "metadata": {
        "vscode": {
          "languageId": "sql"
        }
      },
      "outputs": [],
      "source": [
        "CREATE TABLE IF NOT EXISTS CLAIMS_DEMO.PUBLIC.CLAIM_GENERATION_PROMPTS (\n",
        "    PROMPT_ID VARCHAR(20) PRIMARY KEY,\n",
        "    PROMPT_TYPE VARCHAR(50),\n",
        "    PROMPT_TEXT TEXT,\n",
        "    EXPECTED_OUTPUT_FORMAT TEXT,\n",
        "    CREATED_DATE TIMESTAMP DEFAULT CURRENT_TIMESTAMP()\n",
        ");\n"
      ]
    },
    {
      "cell_type": "code",
      "execution_count": null,
      "metadata": {
        "vscode": {
          "languageId": "sql"
        }
      },
      "outputs": [],
      "source": [
        "INSERT INTO CLAIMS_DEMO.PUBLIC.CLAIM_GENERATION_PROMPTS (PROMPT_ID, PROMPT_TYPE, PROMPT_TEXT, EXPECTED_OUTPUT_FORMAT) VALUES\n",
        "('INITIAL_CLAIM', 'First Claim Generation',\n",
        "'Generate an insurance claim for Cigna based on the following provider inputs:\n",
        "\n",
        "PATIENT: {patient_data}\n",
        "PROCEDURE: {procedure_data} \n",
        "CLINICAL NOTES: {clinical_notes}\n",
        "\n",
        "REQUIREMENTS:\n",
        "1. Use patient information to populate demographics and insurance details\n",
        "2. Reference Cigna policy rules for coverage and requirements\n",
        "3. Generate appropriate diagnosis codes based on clinical notes and medical history\n",
        "4. Calculate realistic billing amounts based on procedure cost ranges\n",
        "5. Include all required documentation per Cigna policy\n",
        "\n",
        "OUTPUT: Return ONLY a complete JSON object following the insurance claim schema. No additional text.',\n",
        "'Valid JSON with claim_header, patient_info, claim_details, billing_info, supporting_documentation'),\n",
        "\n",
        "('REBUTTAL_RESPONSE', 'Claim Optimization After Rebuttal',\n",
        "'Improve the insurance claim based on Insurance Agent feedback:\n",
        "\n",
        "ORIGINAL CLAIM: {original_claim_json}\n",
        "INSURANCE AGENT REBUTTAL: {rebuttal_feedback}\n",
        "STRENGTH SCORE: {current_strength_score}\n",
        "\n",
        "OPTIMIZATION REQUIREMENTS:\n",
        "1. Address each specific issue raised in the rebuttal\n",
        "2. Strengthen weak areas identified by the Insurance Agent\n",
        "3. Add missing documentation or authorizations if required\n",
        "4. Improve medical necessity justification\n",
        "5. Ensure all Cigna policy requirements are met\n",
        "6. Maintain claim accuracy while maximizing approval probability\n",
        "\n",
        "OUTPUT: Return ONLY the improved JSON claim object. No additional text.',\n",
        "'Enhanced JSON claim addressing all rebuttal feedback with improved strength');\n"
      ]
    },
    {
      "cell_type": "code",
      "execution_count": null,
      "metadata": {
        "vscode": {
          "languageId": "sql"
        }
      },
      "outputs": [],
      "source": [
        "CREATE TABLE IF NOT EXISTS CLAIMS_DEMO.PUBLIC.AGENT_INTERACTIONS (\n",
        "    INTERACTION_ID VARCHAR(50) PRIMARY KEY,\n",
        "    SESSION_ID VARCHAR(50),\n",
        "    AGENT_TYPE VARCHAR(20), -- 'BUILDER' or 'INSURANCE'\n",
        "    INPUT_DATA VARIANT,\n",
        "    OUTPUT_DATA VARIANT,\n",
        "    INTERACTION_TIMESTAMP TIMESTAMP DEFAULT CURRENT_TIMESTAMP(),\n",
        "    PROCESSING_STATUS VARCHAR(20), -- 'SUCCESS', 'ERROR', 'PENDING'\n",
        "    ERROR_MESSAGE TEXT\n",
        ");\n"
      ]
    },
    {
      "cell_type": "code",
      "execution_count": null,
      "metadata": {
        "vscode": {
          "languageId": "sql"
        }
      },
      "outputs": [],
      "source": [
        "CREATE OR REPLACE VIEW CLAIMS_DEMO.PUBLIC.BUILDER_AGENT_QUERY_HELPER AS\n",
        "SELECT \n",
        "    'PATIENT_' || p.PATIENT_ID as QUERY_KEY,\n",
        "    OBJECT_CONSTRUCT(\n",
        "        'patient_id', p.PATIENT_ID,\n",
        "        'name', p.FIRST_NAME || ' ' || p.LAST_NAME,\n",
        "        'insurance', p.INSURANCE_PROVIDER,\n",
        "        'policy', p.POLICY_NUMBER,\n",
        "        'medical_history', p.MEDICAL_HISTORY_SUMMARY,\n",
        "        'allergies', p.ALLERGIES,\n",
        "        'medications', p.CURRENT_MEDICATIONS\n",
        "    ) as PATIENT_DATA,\n",
        "    NULL as PROCEDURE_DATA,\n",
        "    NULL as POLICY_DATA\n",
        "FROM CLAIMS_DEMO.PUBLIC.PATIENTS p\n",
        "\n",
        "UNION ALL\n",
        "\n",
        "SELECT \n",
        "    'PROCEDURE_' || cp.PROCEDURE_CODE as QUERY_KEY,\n",
        "    NULL as PATIENT_DATA,\n",
        "    OBJECT_CONSTRUCT(\n",
        "        'code', cp.PROCEDURE_CODE,\n",
        "        'name', cp.PROCEDURE_NAME,\n",
        "        'specialty', cp.MEDICAL_SPECIALTY,\n",
        "        'cost_range', cp.TYPICAL_COST_RANGE,\n",
        "        'coverage_notes', cp.CIGNA_COVERAGE_NOTES\n",
        "    ) as PROCEDURE_DATA,\n",
        "    NULL as POLICY_DATA\n",
        "FROM CLAIMS_DEMO.PUBLIC.COMMON_PROCEDURES cp\n",
        "\n",
        "UNION ALL\n",
        "\n",
        "SELECT \n",
        "    'POLICY_' || cpr.POLICY_RULE_ID as QUERY_KEY,\n",
        "    NULL as PATIENT_DATA,\n",
        "    NULL as PROCEDURE_DATA,\n",
        "    OBJECT_CONSTRUCT(\n",
        "        'rule_id', cpr.POLICY_RULE_ID,\n",
        "        'category', cpr.RULE_CATEGORY,\n",
        "        'procedures', cpr.PROCEDURE_CODES,\n",
        "        'coverage', cpr.COVERAGE_CRITERIA,\n",
        "        'prior_auth', cpr.PRIOR_AUTH_REQUIRED,\n",
        "        'requirements', cpr.MEDICAL_NECESSITY_REQUIREMENTS\n",
        "    ) as POLICY_DATA\n",
        "FROM CLAIMS_DEMO.PUBLIC.CIGNA_POLICY_RULES cpr;\n"
      ]
    },
    {
      "cell_type": "code",
      "execution_count": null,
      "metadata": {
        "vscode": {
          "languageId": "sql"
        }
      },
      "outputs": [],
      "source": [
        "CREATE OR REPLACE VIEW CLAIMS_DEMO.PUBLIC.BUILDER_AGENT_DATA_ACCESS AS\n",
        "SELECT \n",
        "    'PATIENT_LOOKUP' as DATA_TYPE,\n",
        "    p.PATIENT_ID,\n",
        "    p.FIRST_NAME,\n",
        "    p.LAST_NAME,\n",
        "    p.INSURANCE_PROVIDER,\n",
        "    p.POLICY_NUMBER,\n",
        "    p.MEDICAL_HISTORY_SUMMARY,\n",
        "    p.ALLERGIES,\n",
        "    p.CURRENT_MEDICATIONS,\n",
        "    NULL as PROCEDURE_CODE,\n",
        "    NULL as PROCEDURE_NAME,\n",
        "    NULL as COVERAGE_NOTES\n",
        "FROM CLAIMS_DEMO.PUBLIC.PATIENTS p\n",
        "\n",
        "UNION ALL\n",
        "\n",
        "SELECT \n",
        "    'PROCEDURE_REFERENCE' as DATA_TYPE,\n",
        "    NULL as PATIENT_ID,\n",
        "    NULL as FIRST_NAME,\n",
        "    NULL as LAST_NAME,\n",
        "    NULL as INSURANCE_PROVIDER,\n",
        "    NULL as POLICY_NUMBER,\n",
        "    NULL as MEDICAL_HISTORY_SUMMARY,\n",
        "    NULL as ALLERGIES,\n",
        "    NULL as CURRENT_MEDICATIONS,\n",
        "    cp.PROCEDURE_CODE,\n",
        "    cp.PROCEDURE_NAME,\n",
        "    cp.CIGNA_COVERAGE_NOTES\n",
        "FROM CLAIMS_DEMO.PUBLIC.COMMON_PROCEDURES cp;\n"
      ]
    },
    {
      "cell_type": "markdown",
      "metadata": {},
      "source": [
        "## Step 3: API Endpoint Definitions\n",
        "\n",
        "Define REST API endpoints for frontend integration with **structured JSON input/output**.\n"
      ]
    },
    {
      "cell_type": "code",
      "execution_count": null,
      "metadata": {
        "vscode": {
          "languageId": "plaintext"
        }
      },
      "outputs": [],
      "source": [
        "CREATE TABLE IF NOT EXISTS CLAIMS_DEMO.PUBLIC.BUILDER_AGENT_API (\n",
        "    ENDPOINT_ID VARCHAR(20) PRIMARY KEY,\n",
        "    ENDPOINT_NAME VARCHAR(100),\n",
        "    HTTP_METHOD VARCHAR(10),\n",
        "    ENDPOINT_URL VARCHAR(200),\n",
        "    REQUEST_FORMAT TEXT,\n",
        "    RESPONSE_FORMAT TEXT,\n",
        "    CORTEX_INTEGRATION TEXT,\n",
        "    CREATED_DATE TIMESTAMP DEFAULT CURRENT_TIMESTAMP()\n",
        ");\n"
      ]
    },
    {
      "cell_type": "code",
      "execution_count": null,
      "metadata": {
        "vscode": {
          "languageId": "plaintext"
        }
      },
      "outputs": [],
      "source": [
        "snow --config-file ./config.toml sql -q \"\n",
        "INSERT INTO CLAIMS_DEMO.PUBLIC.BUILDER_AGENT_API (ENDPOINT_ID, ENDPOINT_NAME, HTTP_METHOD, ENDPOINT_URL, REQUEST_FORMAT, RESPONSE_FORMAT, CORTEX_INTEGRATION) VALUES\n",
        "('BUILD_INITIAL', 'Generate Initial Claim', 'POST', '/api/v1/builder/generate-claim',\n",
        "'Input JSON: {\\\"patient_id\\\": \\\"PAT_XXX\\\", \\\"procedure_code\\\": \\\"XXXXX\\\", \\\"clinical_notes\\\": \\\"string\\\"}',\n",
        "'Output JSON: Complete insurance claim following schema with claim_header, patient_info, claim_details, billing_info, supporting_documentation',\n",
        "'Uses Cortex Complete with BUILDER_V1 system prompt + patient/procedure/policy data context'),\n",
        "\n",
        "('BUILD_OPTIMIZE', 'Optimize Claim After Rebuttal', 'POST', '/api/v1/builder/optimize-claim',\n",
        "'Input JSON: {\\\"original_claim\\\": {claim_json}, \\\"rebuttal_feedback\\\": \\\"string\\\", \\\"strength_score\\\": number}',\n",
        "'Output JSON: Enhanced insurance claim with improvements addressing rebuttal feedback',\n",
        "'Uses Cortex Complete with REBUTTAL_RESPONSE prompt + original claim + feedback context');\n",
        "\" -c healthcare_claims_demo\n"
      ]
    },
    {
      "cell_type": "markdown",
      "metadata": {},
      "source": [
        "## Step 4: Sample JSON Output\n",
        "\n",
        "Create a sample JSON claim to demonstrate the **exact structured format** the Builder Agent must produce.\n"
      ]
    },
    {
      "cell_type": "code",
      "execution_count": null,
      "metadata": {
        "vscode": {
          "languageId": "plaintext"
        }
      },
      "outputs": [],
      "source": [
        "snow --config-file ./config.toml sql -q \"\n",
        "CREATE OR REPLACE TABLE CLAIMS_DEMO.PUBLIC.SAMPLE_CLAIM_OUTPUT AS\n",
        "SELECT \n",
        "    'SAMPLE_001' as SAMPLE_ID,\n",
        "    'PAT_001' as PATIENT_ID,\n",
        "    '85025' as PROCEDURE_CODE,\n",
        "    PARSE_JSON('{\n",
        "        \\\"claim_header\\\": {\n",
        "            \\\"claim_id\\\": \\\"CLM-2024-001234\\\",\n",
        "            \\\"claim_date\\\": \\\"2024-09-17\\\",\n",
        "            \\\"patient_id\\\": \\\"PAT_001\\\",\n",
        "            \\\"provider_npi\\\": \\\"1234567890\\\",\n",
        "            \\\"insurance_provider\\\": \\\"Cigna\\\",\n",
        "            \\\"policy_number\\\": \\\"CGN123456789\\\",\n",
        "            \\\"group_number\\\": \\\"CIGNA_GRP001\\\"\n",
        "        },\n",
        "        \\\"patient_info\\\": {\n",
        "            \\\"first_name\\\": \\\"John\\\",\n",
        "            \\\"last_name\\\": \\\"Smith\\\",\n",
        "            \\\"date_of_birth\\\": \\\"1975-03-15\\\",\n",
        "            \\\"gender\\\": \\\"Male\\\",\n",
        "            \\\"medical_history\\\": \\\"Hypertension, Type 2 Diabetes\\\",\n",
        "            \\\"allergies\\\": \\\"Penicillin\\\",\n",
        "            \\\"current_medications\\\": \\\"Metformin 500mg, Lisinopril 10mg\\\"\n",
        "        },\n",
        "        \\\"claim_details\\\": {\n",
        "            \\\"procedure_codes\\\": [\\\"85025\\\"],\n",
        "            \\\"diagnosis_codes\\\": [\\\"I10\\\", \\\"E11\\\"],\n",
        "            \\\"service_date\\\": \\\"2024-09-17\\\",\n",
        "            \\\"place_of_service\\\": \\\"11\\\",\n",
        "            \\\"clinical_notes\\\": \\\"Annual wellness screening for diabetic patient\\\",\n",
        "            \\\"medical_necessity_statement\\\": \\\"CBC required for monitoring diabetes management and hypertension treatment effectiveness\\\"\n",
        "        },\n",
        "        \\\"billing_info\\\": {\n",
        "            \\\"total_charges\\\": 75.00,\n",
        "            \\\"line_items\\\": [{\n",
        "                \\\"procedure_code\\\": \\\"85025\\\",\n",
        "                \\\"description\\\": \\\"Complete Blood Count (CBC)\\\",\n",
        "                \\\"quantity\\\": 1,\n",
        "                \\\"unit_charge\\\": 75.00,\n",
        "                \\\"total_charge\\\": 75.00,\n",
        "                \\\"modifiers\\\": []\n",
        "            }]\n",
        "        },\n",
        "        \\\"supporting_documentation\\\": {\n",
        "            \\\"physician_notes\\\": \\\"Patient presents for annual wellness exam. Diabetes and hypertension well controlled.\\\",\n",
        "            \\\"prior_authorization_number\\\": null,\n",
        "            \\\"referral_information\\\": null,\n",
        "            \\\"additional_documentation\\\": \\\"Previous lab results from 2023 for comparison\\\"\n",
        "        }\n",
        "    }') as CLAIM_JSON;\n",
        "\" -c healthcare_claims_demo\n"
      ]
    },
    {
      "cell_type": "markdown",
      "metadata": {},
      "source": [
        "## Step 5: Verification\n",
        "\n",
        "Verify the Builder Agent is properly configured with **structured JSON output**.\n"
      ]
    },
    {
      "cell_type": "code",
      "execution_count": null,
      "metadata": {
        "vscode": {
          "languageId": "plaintext"
        }
      },
      "outputs": [],
      "source": [
        "-- Verify sample claim JSON structure is accessible\n",
        "SELECT \n",
        "    SAMPLE_ID,\n",
        "    CLAIM_JSON:claim_header:claim_id as CLAIM_ID,\n",
        "    CLAIM_JSON:patient_info:first_name as PATIENT_NAME,\n",
        "    CLAIM_JSON:claim_details:procedure_codes as PROCEDURES,\n",
        "    CLAIM_JSON:billing_info:total_charges as TOTAL_CHARGES\n",
        "FROM CLAIMS_DEMO.PUBLIC.SAMPLE_CLAIM_OUTPUT;\n"
      ]
    },
    {
      "cell_type": "markdown",
      "metadata": {},
      "source": [
        "## Step 7: Final Setup - Test Input and Verification\n",
        "\n",
        "Create test input scenarios and verify the complete Builder Agent setup.\n"
      ]
    },
    {
      "cell_type": "code",
      "execution_count": null,
      "metadata": {
        "vscode": {
          "languageId": "sql"
        }
      },
      "outputs": [],
      "source": [
        "CREATE OR REPLACE TABLE CLAIMS_DEMO.PUBLIC.BUILDER_AGENT_TEST_INPUT AS\n",
        "SELECT \n",
        "    'TEST_SESSION_001' as SESSION_ID,\n",
        "    'PAT_001' as PATIENT_ID,\n",
        "    '85025' as PROCEDURE_REQUESTED,\n",
        "    'Patient John Smith presents with fatigue and requests routine blood work. No acute symptoms. Annual wellness screening.' as CLINICAL_NOTES,\n",
        "    CURRENT_TIMESTAMP() as REQUEST_TIMESTAMP;\n"
      ]
    },
    {
      "cell_type": "code",
      "execution_count": null,
      "metadata": {
        "vscode": {
          "languageId": "sql"
        }
      },
      "outputs": [],
      "source": [
        "-- FINAL VERIFICATION: Builder Agent complete setup validation  \n",
        "-- All counts should be 1 for successful setup\n",
        "SELECT \n",
        "    COUNT(CASE WHEN table_name = 'INSURANCE_CLAIM_SCHEMA' THEN 1 END) as HAS_SCHEMA,\n",
        "    COUNT(CASE WHEN table_name = 'BUILDER_AGENT_CONFIG' THEN 1 END) as HAS_CONFIG,\n",
        "    COUNT(CASE WHEN table_name = 'CLAIM_GENERATION_PROMPTS' THEN 1 END) as HAS_PROMPTS,\n",
        "    COUNT(CASE WHEN table_name = 'BUILDER_AGENT_API' THEN 1 END) as HAS_API,\n",
        "    COUNT(CASE WHEN table_name = 'SAMPLE_CLAIM_OUTPUT' THEN 1 END) as HAS_SAMPLE,\n",
        "    COUNT(CASE WHEN table_name = 'AGENT_INTERACTIONS' THEN 1 END) as HAS_LOGGING\n",
        "FROM CLAIMS_DEMO.INFORMATION_SCHEMA.TABLES \n",
        "WHERE table_schema = 'PUBLIC';\n",
        "\n",
        "-- Verify Builder Agent views exist\n",
        "SELECT table_name as VIEW_NAME\n",
        "FROM CLAIMS_DEMO.INFORMATION_SCHEMA.VIEWS \n",
        "WHERE table_schema = 'PUBLIC' \n",
        "    AND table_name IN ('BUILDER_AGENT_QUERY_HELPER', 'BUILDER_AGENT_DATA_ACCESS')\n",
        "ORDER BY table_name;\n"
      ]
    },
    {
      "cell_type": "code",
      "execution_count": null,
      "metadata": {
        "vscode": {
          "languageId": "plaintext"
        }
      },
      "outputs": [],
      "source": [
        "-- SUCCESS CONFIRMATION: Builder Agent ready for Cortex integration\n",
        "SELECT \n",
        "    'BUILDER_AGENT_SETUP_COMPLETE' as STATUS,\n",
        "    'Ready for Insurance Agent Development (Phase 4)' as NEXT_PHASE,\n",
        "    'Structured JSON Output Enforced' as JSON_STATUS,\n",
        "    'All API endpoints defined' as API_STATUS;\n"
      ]
    }
  ],
  "metadata": {
    "language_info": {
      "name": "python"
    }
  },
  "nbformat": 4,
  "nbformat_minor": 2
}
