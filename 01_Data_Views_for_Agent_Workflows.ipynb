{
  "cells": [
    {
      "cell_type": "markdown",
      "metadata": {},
      "source": [
        "# Data Views for Agent Workflows\n",
        "\n",
        "This notebook sets up the complete data foundation for the dual-agent healthcare claims system.\n",
        "\n",
        "**Prerequisites:**\n",
        "- Access to `CLAIMS_DEMO` database and `CLAIMS_HOSPITAL_CLAIMS__REMITS_DATA` marketplace\n",
        "- Cortex services enabled\n",
        "- PCS_CODES table already exists in CLAIMS_DEMO.PUBLIC\n",
        "\n",
        "**What this builds:**\n",
        "- Patient data tables for Builder Agent input gathering\n",
        "- Procedure code references with marketplace intelligence\n",
        "- Denial patterns and Insurance Agent toolkit\n",
        "- Success patterns for Builder Agent optimization\n",
        "- Cigna policy rules for both agents\n",
        "\n",
        "**IMPORTANT:** Run cells in order - some views depend on tables/views created in earlier cells.\n"
      ]
    },
    {
      "cell_type": "markdown",
      "metadata": {},
      "source": [
        "## Step 1: Patient Data Setup\n",
        "\n",
        "Create patient data table and load sample Cigna members for demo scenarios.\n"
      ]
    },
    {
      "cell_type": "code",
      "execution_count": null,
      "metadata": {
        "vscode": {
          "languageId": "plaintext"
        }
      },
      "outputs": [],
      "source": [
        "CREATE TABLE IF NOT EXISTS CLAIMS_DEMO.PUBLIC.PATIENTS (\n",
        "    PATIENT_ID VARCHAR(50) PRIMARY KEY,\n",
        "    FIRST_NAME VARCHAR(100),\n",
        "    LAST_NAME VARCHAR(100),\n",
        "    DATE_OF_BIRTH DATE,\n",
        "    GENDER VARCHAR(10),\n",
        "    INSURANCE_PROVIDER VARCHAR(100),\n",
        "    POLICY_NUMBER VARCHAR(50),\n",
        "    GROUP_NUMBER VARCHAR(50),\n",
        "    PRIMARY_CARE_PHYSICIAN VARCHAR(200),\n",
        "    MEDICAL_HISTORY_SUMMARY TEXT,\n",
        "    ALLERGIES TEXT,\n",
        "    CURRENT_MEDICATIONS TEXT,\n",
        "    CREATED_DATE TIMESTAMP DEFAULT CURRENT_TIMESTAMP()\n",
        ");\n"
      ]
    },
    {
      "cell_type": "code",
      "execution_count": null,
      "metadata": {
        "vscode": {
          "languageId": "plaintext"
        }
      },
      "outputs": [],
      "source": [
        "INSERT INTO CLAIMS_DEMO.PUBLIC.PATIENTS (PATIENT_ID, FIRST_NAME, LAST_NAME, DATE_OF_BIRTH, GENDER, INSURANCE_PROVIDER, POLICY_NUMBER, GROUP_NUMBER, PRIMARY_CARE_PHYSICIAN, MEDICAL_HISTORY_SUMMARY, ALLERGIES, CURRENT_MEDICATIONS) VALUES \n",
        "('PAT_001', 'John', 'Smith', '1975-03-15', 'Male', 'Cigna', 'CGN123456789', 'CIGNA_GRP001', 'Dr. Sarah Johnson', 'Hypertension, Type 2 Diabetes', 'Penicillin', 'Metformin 500mg, Lisinopril 10mg'),\n",
        "('PAT_002', 'Maria', 'Garcia', '1982-07-22', 'Female', 'Cigna', 'CGN234567890', 'CIGNA_STANDARD', 'Dr. Michael Chen', 'Osteoarthritis, Previous knee surgery 2019', 'Sulfa drugs', 'Ibuprofen 400mg PRN'),\n",
        "('PAT_003', 'Robert', 'Wilson', '1968-11-08', 'Male', 'Cigna', 'CGN345678901', 'CIGNA_CORP500', 'Dr. Lisa Park', 'Chronic back pain, Sleep apnea', 'None known', 'Gabapentin 300mg, CPAP therapy'),\n",
        "('PAT_004', 'Jennifer', 'Davis', '1990-05-12', 'Female', 'Cigna', 'CGN456789012', 'CIGNA_SMALL250', 'Dr. David Kim', 'Asthma, Seasonal allergies', 'Shellfish', 'Albuterol inhaler, Claritin 10mg'),\n",
        "('PAT_005', 'Thomas', 'Anderson', '1955-09-30', 'Male', 'Cigna', 'CGN567890123', 'CIGNA_STANDARD', 'Dr. Rachel Adams', 'Coronary artery disease, High cholesterol', 'Codeine', 'Atorvastatin 40mg, Metoprolol 50mg');\n"
      ]
    },
    {
      "cell_type": "markdown",
      "metadata": {},
      "source": [
        "## Step 2: Procedure Code Intelligence\n",
        "\n",
        "Create procedure reference views combining marketplace data with detailed descriptions.\n"
      ]
    },
    {
      "cell_type": "code",
      "execution_count": null,
      "metadata": {
        "vscode": {
          "languageId": "plaintext"
        }
      },
      "outputs": [],
      "source": [
        "CREATE OR REPLACE VIEW CLAIMS_DEMO.PUBLIC.PROCEDURE_CODES_REFERENCE AS\n",
        "SELECT DISTINCT\n",
        "    CPTCODE,\n",
        "    COUNT(*) as USAGE_COUNT,\n",
        "    MIN(CLAIMID) as EXAMPLE_CLAIM_ID\n",
        "FROM CLAIMS_HOSPITAL_CLAIMS__REMITS_DATA.ISTG.CPTDETAIL \n",
        "WHERE CPTCODE IS NOT NULL \n",
        "GROUP BY CPTCODE\n",
        "ORDER BY USAGE_COUNT DESC;\n"
      ]
    },
    {
      "cell_type": "code",
      "execution_count": null,
      "metadata": {
        "vscode": {
          "languageId": "sql"
        }
      },
      "outputs": [],
      "source": [
        "CREATE OR REPLACE VIEW CLAIMS_DEMO.PUBLIC.DIAGNOSIS_CODES_REFERENCE AS\n",
        "SELECT DISTINCT\n",
        "    DIAGCODE,\n",
        "    COUNT(*) as USAGE_COUNT,\n",
        "    MIN(CLAIMID) as EXAMPLE_CLAIM_ID\n",
        "FROM CLAIMS_HOSPITAL_CLAIMS__REMITS_DATA.ISTG.DIAGNOSISDETAIL \n",
        "WHERE DIAGCODE IS NOT NULL \n",
        "GROUP BY DIAGCODE\n",
        "ORDER BY USAGE_COUNT DESC;\n"
      ]
    },
    {
      "cell_type": "code",
      "execution_count": null,
      "metadata": {
        "vscode": {
          "languageId": "plaintext"
        }
      },
      "outputs": [],
      "source": [
        "CREATE TABLE IF NOT EXISTS CLAIMS_DEMO.PUBLIC.COMMON_PROCEDURES (\n",
        "    PROCEDURE_CODE VARCHAR(20),\n",
        "    PROCEDURE_NAME VARCHAR(500),\n",
        "    MEDICAL_SPECIALTY VARCHAR(100),\n",
        "    TYPICAL_COST_RANGE VARCHAR(50),\n",
        "    COMMON_DIAGNOSES TEXT,\n",
        "    CIGNA_COVERAGE_NOTES TEXT,\n",
        "    CREATED_DATE TIMESTAMP DEFAULT CURRENT_TIMESTAMP()\n",
        ");\n"
      ]
    },
    {
      "cell_type": "code",
      "execution_count": null,
      "metadata": {
        "vscode": {
          "languageId": "plaintext"
        }
      },
      "outputs": [],
      "source": [
        "INSERT INTO CLAIMS_DEMO.PUBLIC.COMMON_PROCEDURES (PROCEDURE_CODE, PROCEDURE_NAME, MEDICAL_SPECIALTY, TYPICAL_COST_RANGE, COMMON_DIAGNOSES, CIGNA_COVERAGE_NOTES) VALUES\n",
        "('85025', 'Complete Blood Count (CBC)', 'Laboratory', '$25-75', 'Anemia, Infection, General Health Screening', 'Covered 100% for preventive care, may require copay for diagnostic'),\n",
        "('80053', 'Comprehensive Metabolic Panel (CMP)', 'Laboratory', '$50-150', 'Diabetes, Kidney Disease, Electrolyte Imbalance', 'Covered annually for preventive, additional tests may require prior auth'),\n",
        "('36415', 'Blood Draw/Venipuncture', 'Laboratory', '$15-40', 'Required for any blood test', 'Standard coverage with lab services'),\n",
        "('99283', 'Emergency Department Visit - Moderate Complexity', 'Emergency Medicine', '$400-800', 'Chest Pain, Shortness of Breath, Moderate Injuries', 'Covered after deductible, no prior auth required for emergencies'),\n",
        "('G0463', 'Hospital Outpatient Clinic Visit', 'General Medicine', '$150-300', 'Follow-up Care, Chronic Disease Management', 'Standard outpatient coverage applies'),\n",
        "('96372', 'Injection - Subcutaneous/Intramuscular', 'Various', '$25-100', 'Vaccinations, Medication Administration', 'Covered per pharmacy benefits for medications'),\n",
        "('99214', 'Office Visit - Established Patient, Detailed', 'Primary Care', '$200-350', 'Chronic Disease Management, Complex Conditions', 'Standard office visit coverage'),\n",
        "('93005', 'Electrocardiogram (EKG)', 'Cardiology', '$100-250', 'Chest Pain, Heart Palpitations, Cardiac Screening', 'Covered for diagnostic purposes, may need prior auth for screening');\n"
      ]
    },
    {
      "cell_type": "markdown",
      "metadata": {},
      "source": [
        "## Step 3: Insurance Agent Toolkit - Denial Analysis\n",
        "\n",
        "Create denial patterns and rebuttal resources for the Insurance Agent.\n"
      ]
    },
    {
      "cell_type": "code",
      "execution_count": null,
      "metadata": {
        "vscode": {
          "languageId": "plaintext"
        }
      },
      "outputs": [],
      "source": [
        "CREATE OR REPLACE VIEW CLAIMS_DEMO.PUBLIC.DENIAL_PATTERNS AS\n",
        "SELECT \n",
        "    EOBPAYERNAME as PAYER_NAME,\n",
        "    DENIALCATEGORYID,\n",
        "    COUNT(*) as DENIAL_COUNT,\n",
        "    AVG(BILLEDAMOUNT) as AVG_BILLED_AMOUNT,\n",
        "    AVG(DENIEDADJUSTMENT) as AVG_DENIED_AMOUNT,\n",
        "    AVG(DENIEDADJUSTMENT/NULLIF(BILLEDAMOUNT,0)) * 100 as AVG_DENIAL_PERCENTAGE,\n",
        "    MIN(DENIEDADJUSTMENT) as MIN_DENIED,\n",
        "    MAX(DENIEDADJUSTMENT) as MAX_DENIED\n",
        "FROM CLAIMS_HOSPITAL_CLAIMS__REMITS_DATA.ISTG.EOBDETAIL \n",
        "WHERE DENIEDADJUSTMENT > 0 \n",
        "    AND BILLEDAMOUNT > 0\n",
        "GROUP BY EOBPAYERNAME, DENIALCATEGORYID\n",
        "ORDER BY DENIAL_COUNT DESC;\n"
      ]
    },
    {
      "cell_type": "code",
      "execution_count": null,
      "metadata": {
        "vscode": {
          "languageId": "sql"
        }
      },
      "outputs": [],
      "source": [
        "CREATE OR REPLACE VIEW CLAIMS_DEMO.PUBLIC.CIGNA_DENIAL_BEHAVIOR AS\n",
        "SELECT \n",
        "    CASE \n",
        "        WHEN UPPER(EOBPAYERNAME) LIKE '%CIGNA%' THEN 'CIGNA_ACTUAL'\n",
        "        WHEN UPPER(EOBPAYERNAME) LIKE '%BLUE%' THEN 'BLUE_CROSS_PATTERN'\n",
        "        WHEN UPPER(EOBPAYERNAME) LIKE '%MEDICARE%' THEN 'MEDICARE_PATTERN'\n",
        "        WHEN UPPER(EOBPAYERNAME) LIKE '%AETNA%' THEN 'AETNA_PATTERN'\n",
        "        ELSE 'OTHER_PAYER'\n",
        "    END as PAYER_TYPE,\n",
        "    DENIALCATEGORYID,\n",
        "    COUNT(*) as DENIAL_COUNT,\n",
        "    ROUND(AVG(BILLEDAMOUNT), 2) as AVG_BILLED,\n",
        "    ROUND(AVG(DENIEDADJUSTMENT), 2) as AVG_DENIED,\n",
        "    ROUND(AVG(DENIEDADJUSTMENT/NULLIF(BILLEDAMOUNT,0)) * 100, 1) as DENIAL_RATE_PCT\n",
        "FROM CLAIMS_HOSPITAL_CLAIMS__REMITS_DATA.ISTG.EOBDETAIL \n",
        "WHERE DENIEDADJUSTMENT > 0 AND BILLEDAMOUNT > 0\n",
        "GROUP BY 1, 2\n",
        "HAVING COUNT(*) >= 1\n",
        "ORDER BY DENIAL_COUNT DESC;\n"
      ]
    },
    {
      "cell_type": "code",
      "execution_count": null,
      "metadata": {
        "vscode": {
          "languageId": "sql"
        }
      },
      "outputs": [],
      "source": [
        "CREATE OR REPLACE VIEW CLAIMS_DEMO.PUBLIC.INSURANCE_AGENT_TOOLKIT AS\n",
        "SELECT \n",
        "    dr.DENIAL_REASON_ID,\n",
        "    dr.DENIAL_CATEGORY,\n",
        "    dr.DENIAL_DESCRIPTION,\n",
        "    dr.REBUTTAL_TEMPLATE,\n",
        "    dp.DENIAL_COUNT as MARKETPLACE_PRECEDENT,\n",
        "    dp.AVG_DENIAL_PERCENTAGE as TYPICAL_DENIAL_RATE,\n",
        "    CASE \n",
        "        WHEN dp.DENIAL_COUNT > 10 THEN 'COMMON_REASON'\n",
        "        WHEN dp.DENIAL_COUNT > 3 THEN 'MODERATE_REASON'\n",
        "        WHEN dp.DENIAL_COUNT > 0 THEN 'RARE_REASON'\n",
        "        ELSE 'NO_MARKETPLACE_DATA'\n",
        "    END as PRECEDENT_STRENGTH\n",
        "FROM CLAIMS_DEMO.PUBLIC.DENIAL_REASONS dr\n",
        "LEFT JOIN CLAIMS_DEMO.PUBLIC.DENIAL_PATTERNS dp ON dr.DENIAL_CATEGORY = dp.PAYER_NAME\n",
        "ORDER BY dr.DENIAL_REASON_ID;\n"
      ]
    },
    {
      "cell_type": "code",
      "execution_count": null,
      "metadata": {
        "vscode": {
          "languageId": "plaintext"
        }
      },
      "outputs": [],
      "source": [
        "CREATE TABLE IF NOT EXISTS CLAIMS_DEMO.PUBLIC.DENIAL_REASONS (\n",
        "    DENIAL_REASON_ID VARCHAR(10) PRIMARY KEY,\n",
        "    DENIAL_CATEGORY VARCHAR(100),\n",
        "    DENIAL_DESCRIPTION TEXT,\n",
        "    TYPICAL_CLAIM_ISSUES TEXT,\n",
        "    CIGNA_SPECIFIC_POLICY TEXT,\n",
        "    REBUTTAL_TEMPLATE TEXT,\n",
        "    CREATED_DATE TIMESTAMP DEFAULT CURRENT_TIMESTAMP()\n",
        ");\n"
      ]
    },
    {
      "cell_type": "code",
      "execution_count": null,
      "metadata": {
        "vscode": {
          "languageId": "plaintext"
        }
      },
      "outputs": [],
      "source": [
        "INSERT INTO CLAIMS_DEMO.PUBLIC.DENIAL_REASONS (DENIAL_REASON_ID, DENIAL_CATEGORY, DENIAL_DESCRIPTION, TYPICAL_CLAIM_ISSUES, CIGNA_SPECIFIC_POLICY, REBUTTAL_TEMPLATE) VALUES\n",
        "('D001', 'Prior Authorization Required', 'Service requires prior authorization from Cigna before treatment', 'Missing prior auth number, procedure not pre-approved', 'Cigna requires prior authorization for procedures over $1000 or specialty services', 'CLAIM DENIED: Prior authorization required per Cigna policy section 4.2.1. Please obtain authorization and resubmit with authorization number.'),\n",
        "('D002', 'Medical Necessity Not Established', 'Clinical documentation does not support medical necessity', 'Insufficient physician notes, diagnosis does not justify procedure', 'Cigna requires clear medical necessity documentation per clinical guidelines', 'CLAIM DENIED: Medical necessity not established. Please provide additional physician documentation supporting the medical necessity of this procedure.'),\n",
        "('D003', 'Non-Covered Service', 'Service not covered under patient plan benefits', 'Experimental procedures, cosmetic services, excluded benefits', 'Service excluded per Cigna plan documents and member certificate', 'CLAIM DENIED: Service not covered under member plan. Refer to plan documents section 6.3 for covered benefits.'),\n",
        "('D004', 'Duplicate Claim', 'Claim previously processed and paid', 'Same procedure, same date, already adjudicated', 'Cigna systems show previous payment for identical service', 'CLAIM DENIED: Duplicate claim. Previous payment issued on [DATE] for identical service. Check Cigna portal for payment details.'),\n",
        "('D005', 'Incorrect Coding', 'Procedure codes do not match services rendered', 'Wrong CPT code, unbundling, modifier issues', 'Cigna follows CMS coding guidelines and local coverage determinations', 'CLAIM DENIED: Incorrect procedure coding. CPT code [CODE] does not match documented service. Please review and resubmit with correct codes.'),\n",
        "('D006', 'Frequency Limitation Exceeded', 'Service exceeds allowed frequency per plan year', 'Too many visits, tests repeated too frequently', 'Cigna allows specific frequencies per clinical guidelines', 'CLAIM DENIED: Frequency limitation exceeded. Member has already received [X] services this plan year. Benefit limit: [Y] per year.');\n"
      ]
    },
    {
      "cell_type": "markdown",
      "metadata": {},
      "source": [
        "## Step 4: Success Patterns for Builder Agent\n",
        "\n",
        "Create views of successful claims for the Builder Agent to learn optimal patterns.\n"
      ]
    },
    {
      "cell_type": "code",
      "execution_count": null,
      "metadata": {
        "vscode": {
          "languageId": "sql"
        }
      },
      "outputs": [],
      "source": [
        "CREATE OR REPLACE VIEW CLAIMS_DEMO.PUBLIC.BUILDER_AGENT_SUCCESS_GUIDE AS\n",
        "SELECT \n",
        "    CHARGEPROCEDURECODE,\n",
        "    COUNT(*) as SUCCESS_COUNT,\n",
        "    ROUND(AVG(PAYMENT_RATE_PCT), 1) as AVG_PAYMENT_RATE,\n",
        "    ROUND(AVG(BILLEDAMOUNT), 2) as AVG_BILLED_AMOUNT,\n",
        "    ROUND(AVG(PAIDAMOUNT), 2) as AVG_PAID_AMOUNT,\n",
        "    LISTAGG(DISTINCT EOBPAYERNAME, ', ') as SUCCESSFUL_PAYERS,\n",
        "    LISTAGG(DISTINCT PLACEOFSERVICECODE, ', ') as COMMON_SERVICE_LOCATIONS,\n",
        "    CASE \n",
        "        WHEN COUNT(*) >= 5 THEN 'HIGH_SUCCESS_PROCEDURE'\n",
        "        WHEN COUNT(*) >= 2 THEN 'MODERATE_SUCCESS_PROCEDURE'\n",
        "        ELSE 'LIMITED_SUCCESS_DATA'\n",
        "    END as SUCCESS_CONFIDENCE\n",
        "FROM CLAIMS_DEMO.PUBLIC.SUCCESSFUL_CLAIMS_PATTERNS\n",
        "GROUP BY CHARGEPROCEDURECODE\n",
        "ORDER BY SUCCESS_COUNT DESC, AVG_PAYMENT_RATE DESC;\n"
      ]
    },
    {
      "cell_type": "code",
      "execution_count": null,
      "metadata": {
        "vscode": {
          "languageId": "sql"
        }
      },
      "outputs": [],
      "source": [
        "CREATE OR REPLACE VIEW CLAIMS_DEMO.PUBLIC.PROCEDURE_CODES_WITH_DESCRIPTIONS AS\n",
        "SELECT \n",
        "    pc.PROCEDURECODE,\n",
        "    pc.FULL_DESCRIPTION,\n",
        "    COALESCE(pr.USAGE_COUNT, 0) as MARKETPLACE_USAGE_COUNT,\n",
        "    pr.EXAMPLE_CLAIM_ID,\n",
        "    CASE \n",
        "        WHEN pr.USAGE_COUNT > 20 THEN 'HIGH_USAGE'\n",
        "        WHEN pr.USAGE_COUNT > 5 THEN 'MEDIUM_USAGE' \n",
        "        WHEN pr.USAGE_COUNT > 0 THEN 'LOW_USAGE'\n",
        "        ELSE 'NO_MARKETPLACE_DATA'\n",
        "    END as USAGE_CATEGORY\n",
        "FROM CLAIMS_DEMO.PUBLIC.PCS_CODES pc\n",
        "LEFT JOIN CLAIMS_DEMO.PUBLIC.PROCEDURE_CODES_REFERENCE pr \n",
        "    ON pc.PROCEDURECODE = pr.CPTCODE\n",
        "ORDER BY COALESCE(pr.USAGE_COUNT, 0) DESC, pc.PROCEDURECODE;\n"
      ]
    },
    {
      "cell_type": "code",
      "execution_count": null,
      "metadata": {
        "vscode": {
          "languageId": "plaintext"
        }
      },
      "outputs": [],
      "source": [
        "-- Create enhanced procedure codes view combining PCS_CODES with marketplace usage\n",
        "CREATE OR REPLACE VIEW CLAIMS_DEMO.PUBLIC.PROCEDURE_CODES_WITH_DESCRIPTIONS AS\n",
        "SELECT \n",
        "    pc.PROCEDURECODE,\n",
        "    pc.FULL_DESCRIPTION,\n",
        "    COALESCE(pr.USAGE_COUNT, 0) as MARKETPLACE_USAGE_COUNT,\n",
        "    pr.EXAMPLE_CLAIM_ID,\n",
        "    CASE \n",
        "        WHEN pr.USAGE_COUNT > 20 THEN 'HIGH_USAGE'\n",
        "        WHEN pr.USAGE_COUNT > 5 THEN 'MEDIUM_USAGE' \n",
        "        WHEN pr.USAGE_COUNT > 0 THEN 'LOW_USAGE'\n",
        "        ELSE 'NO_MARKETPLACE_DATA'\n",
        "    END as USAGE_CATEGORY\n",
        "FROM CLAIMS_DEMO.PUBLIC.PCS_CODES pc\n",
        "LEFT JOIN CLAIMS_DEMO.PUBLIC.PROCEDURE_CODES_REFERENCE pr \n",
        "    ON pc.PROCEDURECODE = pr.CPTCODE\n",
        "ORDER BY COALESCE(pr.USAGE_COUNT, 0) DESC, pc.PROCEDURECODE;\n"
      ]
    },
    {
      "cell_type": "code",
      "execution_count": null,
      "metadata": {
        "vscode": {
          "languageId": "plaintext"
        }
      },
      "outputs": [],
      "source": [
        "CREATE TABLE IF NOT EXISTS CLAIMS_DEMO.PUBLIC.CIGNA_POLICY_RULES (\n",
        "    POLICY_RULE_ID VARCHAR(20) PRIMARY KEY,\n",
        "    POLICY_SECTION VARCHAR(100),\n",
        "    RULE_CATEGORY VARCHAR(100),\n",
        "    PROCEDURE_CODES TEXT,\n",
        "    COVERAGE_CRITERIA TEXT,\n",
        "    PRIOR_AUTH_REQUIRED BOOLEAN,\n",
        "    FREQUENCY_LIMITS VARCHAR(200),\n",
        "    EXCLUSIONS TEXT,\n",
        "    MEDICAL_NECESSITY_REQUIREMENTS TEXT,\n",
        "    DOCUMENTATION_REQUIREMENTS TEXT,\n",
        "    CREATED_DATE TIMESTAMP DEFAULT CURRENT_TIMESTAMP()\n",
        ");\n"
      ]
    },
    {
      "cell_type": "code",
      "execution_count": null,
      "metadata": {
        "vscode": {
          "languageId": "sql"
        }
      },
      "outputs": [],
      "source": [
        "CREATE OR REPLACE VIEW CLAIMS_DEMO.PUBLIC.CLAIM_STRENGTH_CALCULATOR AS\n",
        "SELECT \n",
        "    'STRENGTH_METRICS' as METRIC_TYPE,\n",
        "    COUNT(CASE WHEN DENIEDADJUSTMENT = 0 THEN 1 END) as APPROVED_CLAIMS,\n",
        "    COUNT(CASE WHEN DENIEDADJUSTMENT > 0 THEN 1 END) as DENIED_CLAIMS,\n",
        "    ROUND(COUNT(CASE WHEN DENIEDADJUSTMENT = 0 THEN 1 END) * 100.0 / COUNT(*), 1) as APPROVAL_RATE_PCT,\n",
        "    ROUND(AVG(CASE WHEN DENIEDADJUSTMENT > 0 THEN DENIEDADJUSTMENT/NULLIF(BILLEDAMOUNT,0) END) * 100, 1) as AVG_DENIAL_PCT,\n",
        "    ROUND(MEDIAN(BILLEDAMOUNT), 2) as MEDIAN_CLAIM_AMOUNT,\n",
        "    ROUND(MEDIAN(CASE WHEN DENIEDADJUSTMENT > 0 THEN DENIEDADJUSTMENT END), 2) as MEDIAN_DENIAL_AMOUNT\n",
        "FROM CLAIMS_HOSPITAL_CLAIMS__REMITS_DATA.ISTG.EOBDETAIL\n",
        "WHERE BILLEDAMOUNT > 0;\n"
      ]
    },
    {
      "cell_type": "code",
      "execution_count": null,
      "metadata": {
        "vscode": {
          "languageId": "sql"
        }
      },
      "outputs": [],
      "source": [
        "-- Verify marketplace data access (should show row counts)\n",
        "SELECT 'MARKETPLACE_CLAIMS' as SOURCE, COUNT(*) as ROW_COUNT \n",
        "FROM CLAIMS_HOSPITAL_CLAIMS__REMITS_DATA.ISTG.CLAIMCHARGEDETAIL\n",
        "UNION ALL\n",
        "SELECT 'MARKETPLACE_DENIALS', COUNT(*) \n",
        "FROM CLAIMS_HOSPITAL_CLAIMS__REMITS_DATA.ISTG.EOBDETAIL WHERE DENIEDADJUSTMENT > 0\n",
        "UNION ALL  \n",
        "SELECT 'MARKETPLACE_PROCEDURES', COUNT(*) \n",
        "FROM CLAIMS_HOSPITAL_CLAIMS__REMITS_DATA.ISTG.CPTDETAIL\n",
        "UNION ALL\n",
        "SELECT 'PCS_CODES_AVAILABLE', COUNT(*) \n",
        "FROM CLAIMS_DEMO.PUBLIC.PCS_CODES;\n"
      ]
    },
    {
      "cell_type": "code",
      "execution_count": null,
      "metadata": {
        "vscode": {
          "languageId": "sql"
        }
      },
      "outputs": [],
      "source": [
        "-- FINAL VERIFICATION: All components created successfully\n",
        "-- Each count should be 1 for successful setup\n",
        "SELECT \n",
        "    COUNT(CASE WHEN table_name = 'PATIENTS' THEN 1 END) as HAS_PATIENTS,\n",
        "    COUNT(CASE WHEN table_name = 'COMMON_PROCEDURES' THEN 1 END) as HAS_PROCEDURES,\n",
        "    COUNT(CASE WHEN table_name = 'DENIAL_REASONS' THEN 1 END) as HAS_DENIALS,\n",
        "    COUNT(CASE WHEN table_name = 'CIGNA_POLICY_RULES' THEN 1 END) as HAS_POLICIES\n",
        "FROM CLAIMS_DEMO.INFORMATION_SCHEMA.TABLES \n",
        "WHERE table_schema = 'PUBLIC';\n",
        "\n",
        "-- Verify key views exist\n",
        "SELECT table_name as VIEW_NAME\n",
        "FROM CLAIMS_DEMO.INFORMATION_SCHEMA.VIEWS \n",
        "WHERE table_schema = 'PUBLIC' \n",
        "    AND table_name IN ('DENIAL_PATTERNS', 'SUCCESSFUL_CLAIMS_PATTERNS', 'AGENT_POLICY_LOOKUP', 'CLAIM_STRENGTH_CALCULATOR')\n",
        "ORDER BY table_name;\n"
      ]
    },
    {
      "cell_type": "code",
      "execution_count": null,
      "metadata": {
        "vscode": {
          "languageId": "plaintext"
        }
      },
      "outputs": [],
      "source": [
        "INSERT INTO CLAIMS_DEMO.PUBLIC.CIGNA_POLICY_RULES (POLICY_RULE_ID, POLICY_SECTION, RULE_CATEGORY, PROCEDURE_CODES, COVERAGE_CRITERIA, PRIOR_AUTH_REQUIRED, FREQUENCY_LIMITS, EXCLUSIONS, MEDICAL_NECESSITY_REQUIREMENTS, DOCUMENTATION_REQUIREMENTS) VALUES\n",
        "('P001', 'Section 4.1 - Laboratory Services', 'Diagnostic Laboratory', '85025, 80053, 36415', 'Covered for diagnostic and preventive purposes', false, 'CBC: 2 per year preventive, additional as medically necessary. CMP: Annual preventive, quarterly for diabetes monitoring', 'Experimental genetic testing', 'Must be ordered by physician for specific medical indication', 'Physician order with diagnosis code'),\n",
        "('P002', 'Section 4.2 - Emergency Services', 'Emergency Care', '99281, 99282, 99283, 99284, 99285', 'Covered 24/7 without prior authorization for true emergencies', false, 'No frequency limits for emergency care', 'Non-emergency use of emergency department may require member cost-sharing', 'Must meet prudent layperson standard for emergency', 'Emergency department documentation, triage notes'),\n",
        "('P003', 'Section 5.1 - Office Visits', 'Primary Care', '99211, 99212, 99213, 99214, 99215', 'Covered for established and new patients', false, 'No specific limits, but excessive visits may require review', 'Routine physical exams more than annually (unless high-risk)', 'Must document medical decision making and patient encounter', 'SOAP notes, time documentation for time-based billing'),\n",
        "('P004', 'Section 6.1 - Cardiology Services', 'Specialty Care', '93005, 93010, 93015', 'Covered for diagnostic and monitoring purposes', true, 'EKG: As medically necessary, Stress tests: Annual or as indicated', 'Screening in asymptomatic low-risk patients under age 40', 'Must have cardiac symptoms, risk factors, or follow-up indication', 'Cardiology consultation notes, clinical indication documentation'),\n",
        "('P005', 'Section 7.2 - Injections and Infusions', 'Therapeutic Services', '96372, 96413, J0897', 'Covered when medically necessary and FDA-approved', false, 'Based on medication prescribing guidelines', 'Experimental drugs, cosmetic injections', 'Must be FDA-approved indication with appropriate diagnosis', 'Physician order, medication documentation, administration notes');\n"
      ]
    },
    {
      "cell_type": "markdown",
      "metadata": {},
      "source": [
        "## Step 5: Final Views and Verification\n",
        "\n",
        "Create final agent views and verify the complete data foundation.\n"
      ]
    },
    {
      "cell_type": "code",
      "execution_count": null,
      "metadata": {
        "vscode": {
          "languageId": "plaintext"
        }
      },
      "outputs": [],
      "source": [
        "CREATE OR REPLACE VIEW CLAIMS_DEMO.PUBLIC.AGENT_POLICY_LOOKUP AS\n",
        "SELECT \n",
        "    cpr.POLICY_RULE_ID,\n",
        "    cpr.POLICY_SECTION,\n",
        "    cpr.RULE_CATEGORY,\n",
        "    cpr.PROCEDURE_CODES,\n",
        "    cpr.COVERAGE_CRITERIA,\n",
        "    cpr.PRIOR_AUTH_REQUIRED,\n",
        "    cpr.FREQUENCY_LIMITS,\n",
        "    cpr.MEDICAL_NECESSITY_REQUIREMENTS,\n",
        "    cpr.DOCUMENTATION_REQUIREMENTS,\n",
        "    COALESCE(cp.CIGNA_COVERAGE_NOTES, 'Standard coverage applies') as ADDITIONAL_NOTES\n",
        "FROM CLAIMS_DEMO.PUBLIC.CIGNA_POLICY_RULES cpr\n",
        "LEFT JOIN CLAIMS_DEMO.PUBLIC.COMMON_PROCEDURES cp \n",
        "    ON REGEXP_LIKE(cpr.PROCEDURE_CODES, cp.PROCEDURE_CODE)\n",
        "ORDER BY cpr.POLICY_RULE_ID;\n"
      ]
    },
    {
      "cell_type": "code",
      "execution_count": null,
      "metadata": {
        "vscode": {
          "languageId": "plaintext"
        }
      },
      "outputs": [],
      "source": [
        "-- Summary verification\n",
        "SELECT 'PATIENTS' as TABLE_TYPE, COUNT(*) as ROW_COUNT FROM CLAIMS_DEMO.PUBLIC.PATIENTS\n",
        "UNION ALL\n",
        "SELECT 'COMMON_PROCEDURES', COUNT(*) FROM CLAIMS_DEMO.PUBLIC.COMMON_PROCEDURES  \n",
        "UNION ALL\n",
        "SELECT 'DENIAL_REASONS', COUNT(*) FROM CLAIMS_DEMO.PUBLIC.DENIAL_REASONS\n",
        "UNION ALL\n",
        "SELECT 'CIGNA_POLICY_RULES', COUNT(*) FROM CLAIMS_DEMO.PUBLIC.CIGNA_POLICY_RULES;\n"
      ]
    }
  ],
  "metadata": {
    "language_info": {
      "name": "python"
    }
  },
  "nbformat": 4,
  "nbformat_minor": 2
}
