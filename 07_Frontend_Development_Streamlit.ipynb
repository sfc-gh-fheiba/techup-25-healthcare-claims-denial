{
  "cells": [
    {
      "cell_type": "markdown",
      "metadata": {},
      "source": [
        "# Frontend Development - Streamlit App\n",
        "\n",
        "This notebook documents the Streamlit app development for the Cigna Claims Optimization System.\n",
        "\n",
        "**Prerequisites:**\n",
        "- **MUST run all previous notebooks first** (01-06)\n",
        "- Complete dual-agent system working\n",
        "- All agent functions and policy integration ready\n",
        "- Streamlit in Snowflake enabled\n",
        "\n",
        "**What this creates:**\n",
        "- Streamlit app for provider interface (`streamlit_app.py`)\n",
        "- Complete dual-agent workflow visualization\n",
        "- Real-time claim generation and analysis\n",
        "- Provider decision support interface\n",
        "- Deployment configuration for Snowflake Streamlit\n",
        "\n",
        "**GOAL:** Sales-ready demo showcasing Snowflake Cortex capabilities in healthcare claims optimization.\n"
      ]
    },
    {
      "cell_type": "markdown",
      "metadata": {},
      "source": [
        "## Step 1: Verify System Readiness for Frontend\n",
        "\n",
        "Confirm all backend components are ready for Streamlit integration.\n"
      ]
    },
    {
      "cell_type": "code",
      "execution_count": null,
      "metadata": {
        "vscode": {
          "languageId": "sql"
        }
      },
      "outputs": [],
      "source": [
        "-- Frontend readiness verification\n",
        "SELECT \n",
        "    'DATA_FOUNDATION' as COMPONENT_TYPE, \n",
        "    'PATIENTS' as COMPONENT,\n",
        "    COUNT(*) as COUNT,\n",
        "    'Cigna member data for demos' as PURPOSE\n",
        "FROM CLAIMS_DEMO.PUBLIC.PATIENTS\n",
        "\n",
        "UNION ALL\n",
        "\n",
        "SELECT 'AGENT_SYSTEM', 'REGISTERED_AGENTS', COUNT(*), 'Builder + Insurance agents'\n",
        "FROM CLAIMS_DEMO.PUBLIC.CORTEX_AGENTS_REGISTRY\n",
        "\n",
        "UNION ALL\n",
        "\n",
        "SELECT 'POLICY_SYSTEM', 'POLICY_DOCUMENTS', COUNT(*), 'Generated Cigna policies'\n",
        "FROM CLAIMS_DEMO.PUBLIC.CIGNA_POLICY_DOCUMENTS\n",
        "\n",
        "ORDER BY COMPONENT_TYPE;\n"
      ]
    },
    {
      "cell_type": "code",
      "execution_count": null,
      "metadata": {
        "vscode": {
          "languageId": "sql"
        }
      },
      "outputs": [],
      "source": [
        "-- Verify agent functions for frontend integration\n",
        "SELECT \n",
        "    function_name as AGENT_FUNCTION,\n",
        "    argument_signature as INPUT_FORMAT,\n",
        "    'READY_FOR_STREAMLIT' as STATUS\n",
        "FROM CLAIMS_DEMO.INFORMATION_SCHEMA.FUNCTIONS \n",
        "WHERE function_schema = 'PUBLIC' \n",
        "  AND function_name IN ('BUILDER_AGENT', 'INSURANCE_AGENT_WITH_POLICY', 'BUILDER_AGENT_OPTIMIZE')\n",
        "ORDER BY function_name;\n"
      ]
    },
    {
      "cell_type": "markdown",
      "metadata": {},
      "source": [
        "## Step 2: Streamlit App Deployment Setup\n",
        "\n",
        "Prepare for deploying the Streamlit app in Snowflake.\n"
      ]
    },
    {
      "cell_type": "code",
      "execution_count": null,
      "metadata": {
        "vscode": {
          "languageId": "sql"
        }
      },
      "outputs": [],
      "source": [
        "-- Create stage for Streamlit app files\n",
        "CREATE STAGE IF NOT EXISTS CLAIMS_DEMO.PUBLIC.STREAMLIT_STAGE;\n"
      ]
    },
    {
      "cell_type": "markdown",
      "metadata": {},
      "source": [
        "## Step 3: Test App Components\n",
        "\n",
        "Test individual components that the Streamlit app will use.\n"
      ]
    },
    {
      "cell_type": "code",
      "execution_count": null,
      "metadata": {
        "vscode": {
          "languageId": "sql"
        }
      },
      "outputs": [],
      "source": [
        "-- Test complete workflow that Streamlit app will use\n",
        "WITH provider_input AS (\n",
        "    SELECT \n",
        "        'PAT_001' as PATIENT_ID,\n",
        "        '85025' as PROCEDURE_CODE,\n",
        "        'Annual wellness screening for diabetic patient' as CLINICAL_NOTES\n",
        "),\n",
        "builder_step AS (\n",
        "    SELECT \n",
        "        *,\n",
        "        CLAIMS_DEMO.PUBLIC.BUILDER_AGENT(PATIENT_ID, PROCEDURE_CODE, CLINICAL_NOTES) as GENERATED_CLAIM\n",
        "    FROM provider_input\n",
        "),\n",
        "insurance_step AS (\n",
        "    SELECT \n",
        "        *,\n",
        "        CLAIMS_DEMO.PUBLIC.INSURANCE_AGENT_WITH_POLICY(GENERATED_CLAIM, PROCEDURE_CODE) as INSURANCE_ANALYSIS,\n",
        "        TRY_PARSE_JSON(CLAIMS_DEMO.PUBLIC.INSURANCE_AGENT_WITH_POLICY(GENERATED_CLAIM, PROCEDURE_CODE)):strength_score::FLOAT as STRENGTH_SCORE\n",
        "    FROM builder_step\n",
        ")\n",
        "SELECT \n",
        "    'STREAMLIT_WORKFLOW_TEST' as TEST_TYPE,\n",
        "    PATIENT_ID,\n",
        "    PROCEDURE_CODE,\n",
        "    CASE WHEN GENERATED_CLAIM LIKE '%{%' THEN 'VALID_JSON' ELSE 'INVALID' END as BUILDER_OUTPUT,\n",
        "    CASE WHEN INSURANCE_ANALYSIS LIKE '%{%' THEN 'VALID_JSON' ELSE 'INVALID' END as INSURANCE_OUTPUT,\n",
        "    STRENGTH_SCORE,\n",
        "    CASE WHEN STRENGTH_SCORE >= 0.7 THEN 'APPROVE' \n",
        "         WHEN STRENGTH_SCORE >= 0.4 THEN 'OPTIMIZE' \n",
        "         ELSE 'RECONSIDER' END as RECOMMENDATION\n",
        "FROM insurance_step;\n"
      ]
    },
    {
      "cell_type": "markdown",
      "metadata": {},
      "source": [
        "## Step 4: Deploy Streamlit App\n",
        "\n",
        "Deploy the Cigna Claims Optimization app in Snowflake Streamlit.\n"
      ]
    },
    {
      "cell_type": "code",
      "execution_count": null,
      "metadata": {
        "vscode": {
          "languageId": "sql"
        }
      },
      "outputs": [],
      "source": [
        "-- Deploy Streamlit app (after uploading files to stage)\n",
        "CREATE OR REPLACE STREAMLIT CLAIMS_DEMO.PUBLIC.CIGNA_CLAIMS_OPTIMIZATION_APP\n",
        "ROOT_LOCATION = '@CLAIMS_DEMO.PUBLIC.STREAMLIT_STAGE'\n",
        "MAIN_FILE = 'streamlit_app.py'\n",
        "QUERY_WAREHOUSE = 'DEMO_WH';\n"
      ]
    },
    {
      "cell_type": "code",
      "execution_count": null,
      "metadata": {
        "vscode": {
          "languageId": "sql"
        }
      },
      "outputs": [],
      "source": [
        "-- Verify deployment and get app URL\n",
        "SHOW STREAMLITS IN SCHEMA CLAIMS_DEMO.PUBLIC;\n",
        "\n",
        "-- Get app details\n",
        "DESC STREAMLIT CLAIMS_DEMO.PUBLIC.CIGNA_CLAIMS_OPTIMIZATION_APP;\n"
      ]
    }
  ],
  "metadata": {
    "language_info": {
      "name": "python"
    }
  },
  "nbformat": 4,
  "nbformat_minor": 2
}
