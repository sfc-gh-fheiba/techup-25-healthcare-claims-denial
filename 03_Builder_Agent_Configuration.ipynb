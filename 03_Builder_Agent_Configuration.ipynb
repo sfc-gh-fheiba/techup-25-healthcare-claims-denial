{
  "cells": [
    {
      "cell_type": "markdown",
      "metadata": {},
      "source": [
        "# Builder Agent Configuration & Testing\n",
        "\n",
        "This notebook configures and tests the Builder Agent using **Snowflake Cortex Complete** (Claude Sonnet) for generating insurance claims with **structured JSON output**.\n",
        "\n",
        "**Prerequisites:**\n",
        "- **MUST run both previous notebooks first**:\n",
        "  - `01_Data_Views_for_Agent_Workflows.ipynb` \n",
        "  - `02_Builder_Agent_Development.ipynb`\n",
        "- Cortex Complete service enabled (Claude Sonnet model)\n",
        "- All data foundation and configuration tables ready\n",
        "\n",
        "**What this does:**\n",
        "- Test Builder Agent using CORTEX.COMPLETE() SQL function\n",
        "- Generate claims with real patient data and structured JSON output\n",
        "- Validate JSON parsing and schema compliance\n",
        "- Test iterative optimization with feedback loops\n",
        "- Prepare for Insurance Agent integration\n",
        "\n",
        "**NOTE:** This uses CORTEX.COMPLETE() function calls, not persistent Cortex Agents that appear in Snowflake UI.\n"
      ]
    },
    {
      "cell_type": "markdown",
      "metadata": {},
      "source": [
        "## Step 1: Test Data Preparation\n",
        "\n",
        "Get patient, procedure, and policy data for Builder Agent testing.\n"
      ]
    },
    {
      "cell_type": "code",
      "execution_count": null,
      "metadata": {
        "vscode": {
          "languageId": "sql"
        }
      },
      "outputs": [],
      "source": [
        "-- Get patient data for Builder Agent test\n",
        "SELECT \n",
        "    PATIENT_ID,\n",
        "    FIRST_NAME,\n",
        "    LAST_NAME,\n",
        "    DATE_OF_BIRTH,\n",
        "    GENDER,\n",
        "    MEDICAL_HISTORY_SUMMARY,\n",
        "    ALLERGIES,\n",
        "    CURRENT_MEDICATIONS,\n",
        "    INSURANCE_PROVIDER,\n",
        "    POLICY_NUMBER,\n",
        "    GROUP_NUMBER\n",
        "FROM CLAIMS_DEMO.PUBLIC.PATIENTS \n",
        "WHERE PATIENT_ID = 'PAT_001';\n"
      ]
    },
    {
      "cell_type": "code",
      "execution_count": null,
      "metadata": {
        "vscode": {
          "languageId": "sql"
        }
      },
      "outputs": [],
      "source": [
        "-- Get procedure information and Cigna policy rules\n",
        "SELECT \n",
        "    cp.PROCEDURE_CODE,\n",
        "    cp.PROCEDURE_NAME,\n",
        "    cp.MEDICAL_SPECIALTY,\n",
        "    cp.TYPICAL_COST_RANGE,\n",
        "    cp.CIGNA_COVERAGE_NOTES,\n",
        "    cpr.COVERAGE_CRITERIA,\n",
        "    cpr.PRIOR_AUTH_REQUIRED,\n",
        "    cpr.MEDICAL_NECESSITY_REQUIREMENTS\n",
        "FROM CLAIMS_DEMO.PUBLIC.COMMON_PROCEDURES cp\n",
        "LEFT JOIN CLAIMS_DEMO.PUBLIC.CIGNA_POLICY_RULES cpr \n",
        "    ON REGEXP_LIKE(cpr.PROCEDURE_CODES, cp.PROCEDURE_CODE)\n",
        "WHERE cp.PROCEDURE_CODE = '85025';\n"
      ]
    },
    {
      "cell_type": "markdown",
      "metadata": {},
      "source": [
        "## Step 2: Create Agent Registry and Actual Agent Functions\n",
        "\n",
        "Create an agent registry and actual Cortex Agent functions that behave like persistent agents.\n"
      ]
    },
    {
      "cell_type": "code",
      "execution_count": null,
      "metadata": {
        "vscode": {
          "languageId": "sql"
        }
      },
      "outputs": [],
      "source": [
        "-- Create Agent Registry to track our Cortex Agents\n",
        "CREATE OR REPLACE TABLE CLAIMS_DEMO.PUBLIC.CORTEX_AGENTS_REGISTRY (\n",
        "    AGENT_ID VARCHAR(50) PRIMARY KEY,\n",
        "    AGENT_NAME VARCHAR(100),\n",
        "    AGENT_TYPE VARCHAR(50),\n",
        "    MODEL_NAME VARCHAR(100),\n",
        "    SYSTEM_PROMPT TEXT,\n",
        "    INPUT_SCHEMA TEXT,\n",
        "    OUTPUT_SCHEMA TEXT,\n",
        "    STATUS VARCHAR(20),\n",
        "    CREATED_DATE TIMESTAMP DEFAULT CURRENT_TIMESTAMP()\n",
        ");\n"
      ]
    },
    {
      "cell_type": "code",
      "execution_count": null,
      "metadata": {
        "vscode": {
          "languageId": "sql"
        }
      },
      "outputs": [],
      "source": [
        "-- Create Builder Agent function (using snowflake-arctic model)\n",
        "CREATE OR REPLACE FUNCTION CLAIMS_DEMO.PUBLIC.BUILDER_AGENT(patient_id VARCHAR, procedure_code VARCHAR, clinical_notes VARCHAR)\n",
        "RETURNS VARCHAR\n",
        "LANGUAGE SQL\n",
        "AS\n",
        "$$\n",
        "    SELECT SNOWFLAKE.CORTEX.COMPLETE(\n",
        "        'snowflake-arctic',\n",
        "        'You are a Builder Agent for Cigna insurance claims. Generate ONLY valid JSON for patient ' || patient_id || ' requesting procedure ' || procedure_code || '. Clinical notes: ' || clinical_notes || '. Use this schema: {\"claim_header\":{\"claim_id\":\"CLM-2024-001\",\"patient_id\":\"' || patient_id || '\",\"insurance_provider\":\"Cigna\"},\"patient_info\":{\"first_name\":\"string\",\"last_name\":\"string\"},\"claim_details\":{\"procedure_codes\":[\"' || procedure_code || '\"]},\"billing_info\":{\"total_charges\":75.00}}. Return ONLY JSON.'\n",
        "    )\n",
        "$$;\n"
      ]
    },
    {
      "cell_type": "code",
      "execution_count": null,
      "metadata": {
        "vscode": {
          "languageId": "sql"
        }
      },
      "outputs": [],
      "source": [
        "-- Create Insurance Agent function for adversarial validation  \n",
        "CREATE OR REPLACE FUNCTION CLAIMS_DEMO.PUBLIC.INSURANCE_AGENT(claim_json VARCHAR)\n",
        "RETURNS VARCHAR  \n",
        "LANGUAGE SQL\n",
        "AS\n",
        "$$\n",
        "    SELECT SNOWFLAKE.CORTEX.COMPLETE(\n",
        "        'snowflake-arctic',\n",
        "        'You are an Insurance Agent for Cigna. Analyze this claim and provide a rebuttal with strength score: ' || claim_json || '. Your goal is to deny claims within policy framework. Generate JSON response: {\"rebuttal_summary\":\"string\",\"denial_reasons\":[\"string\"],\"strength_score\":number,\"recommended_improvements\":[\"string\"]}. Be strict but fair per Cigna policies. ONLY JSON output.'\n",
        "    )\n",
        "$$;\n"
      ]
    },
    {
      "cell_type": "code",
      "execution_count": null,
      "metadata": {
        "vscode": {
          "languageId": "sql"
        }
      },
      "outputs": [],
      "source": [
        "-- Register both agents in the registry\n",
        "INSERT INTO CLAIMS_DEMO.PUBLIC.CORTEX_AGENTS_REGISTRY (AGENT_ID, AGENT_NAME, AGENT_TYPE, MODEL_NAME, SYSTEM_PROMPT, INPUT_SCHEMA, OUTPUT_SCHEMA, STATUS) VALUES \n",
        "('BUILDER_AGENT_V1', 'Cigna Claims Builder Agent', 'CLAIM_GENERATOR', 'snowflake-arctic', 'Builder Agent specialized in creating optimized Cigna insurance claims with JSON output', 'Input: {patient_id, procedure_code, clinical_notes}', 'Output: Complete JSON insurance claim', 'ACTIVE'),\n",
        "('INSURANCE_AGENT_V1', 'Cigna Insurance Validator Agent', 'CLAIM_VALIDATOR', 'snowflake-arctic', 'Insurance Agent for analyzing claims and providing rebuttals with strength scores', 'Input: {claim_json}', 'Output: JSON with rebuttal and strength score', 'ACTIVE');\n"
      ]
    },
    {
      "cell_type": "markdown",
      "metadata": {},
      "source": [
        "## Step 3: Register Builder Agent\n",
        "\n",
        "Register the Builder Agent in our agent tracking system.\n"
      ]
    },
    {
      "cell_type": "code",
      "execution_count": null,
      "metadata": {
        "vscode": {
          "languageId": "sql"
        }
      },
      "outputs": [],
      "source": [
        "-- Register Builder Agent in the registry\n",
        "INSERT INTO CLAIMS_DEMO.PUBLIC.CORTEX_AGENTS_REGISTRY (AGENT_ID, AGENT_NAME, AGENT_TYPE, MODEL_NAME, SYSTEM_PROMPT, INPUT_SCHEMA, OUTPUT_SCHEMA, STATUS) VALUES (\n",
        "    'BUILDER_AGENT_V1',\n",
        "    'Cigna Claims Builder Agent',\n",
        "    'CLAIM_GENERATOR', \n",
        "    'snowflake-arctic',\n",
        "    'Builder Agent specialized in creating optimized Cigna insurance claims with structured JSON output',\n",
        "    'Input: {patient_id, procedure_code, clinical_notes}',\n",
        "    'Output: Complete JSON insurance claim with all required fields',\n",
        "    'ACTIVE'\n",
        ");\n"
      ]
    },
    {
      "cell_type": "markdown",
      "metadata": {},
      "source": [
        "## Step 4: Test Builder Agent\n",
        "\n",
        "Test the Builder Agent function with real patient data.\n"
      ]
    },
    {
      "cell_type": "code",
      "execution_count": null,
      "metadata": {
        "vscode": {
          "languageId": "sql"
        }
      },
      "outputs": [],
      "source": [
        "-- Test Builder Agent with real patient data\n",
        "SELECT CLAIMS_DEMO.PUBLIC.BUILDER_AGENT('PAT_001', '85025', 'Annual wellness screening for diabetic patient') as BUILDER_AGENT_OUTPUT;\n"
      ]
    },
    {
      "cell_type": "markdown",
      "metadata": {},
      "source": [
        "## Step 5: JSON Validation\n",
        "\n",
        "Verify Builder Agent output is valid JSON that can be parsed.\n"
      ]
    },
    {
      "cell_type": "code",
      "execution_count": null,
      "metadata": {
        "vscode": {
          "languageId": "sql"
        }
      },
      "outputs": [],
      "source": [
        "-- Validate JSON output from Builder Agent\n",
        "WITH agent_test AS (\n",
        "    SELECT CLAIMS_DEMO.PUBLIC.BUILDER_AGENT('PAT_001', '85025', 'Routine wellness screening') as CLAIM_JSON\n",
        ")\n",
        "SELECT \n",
        "    CLAIM_JSON,\n",
        "    TRY_PARSE_JSON(CLAIM_JSON) as PARSED_CLAIM,\n",
        "    CASE WHEN TRY_PARSE_JSON(CLAIM_JSON) IS NOT NULL THEN 'VALID_JSON' ELSE 'INVALID_JSON' END as VALIDATION_STATUS\n",
        "FROM agent_test;\n"
      ]
    },
    {
      "cell_type": "markdown",
      "metadata": {},
      "source": [
        "## Step 6: Builder Agent Status\n",
        "\n",
        "Verify Builder Agent is ready for integration with Insurance Agent (Phase 4).\n"
      ]
    },
    {
      "cell_type": "code",
      "execution_count": null,
      "metadata": {
        "vscode": {
          "languageId": "sql"
        }
      },
      "outputs": [],
      "source": [
        "-- Final verification: Builder Agent ready\n",
        "SELECT \n",
        "    AGENT_ID,\n",
        "    AGENT_NAME,\n",
        "    AGENT_TYPE,\n",
        "    MODEL_NAME,\n",
        "    STATUS\n",
        "FROM CLAIMS_DEMO.PUBLIC.CORTEX_AGENTS_REGISTRY \n",
        "WHERE AGENT_TYPE = 'CLAIM_GENERATOR';\n",
        "\n",
        "-- Confirm function exists\n",
        "SELECT 'BUILDER_AGENT' as FUNCTION_NAME, 'ACTIVE' as STATUS;\n"
      ]
    },
    {
      "cell_type": "markdown",
      "metadata": {},
      "source": [
        "## Step 2: Builder Agent Testing with Cortex Complete\n",
        "\n",
        "Test the Builder Agent using Snowflake Cortex Complete SQL function.\n"
      ]
    },
    {
      "cell_type": "code",
      "execution_count": null,
      "metadata": {
        "vscode": {
          "languageId": "sql"
        }
      },
      "outputs": [],
      "source": [
        "-- Test 1: Simple Builder Agent claim generation  \n",
        "SELECT SNOWFLAKE.CORTEX.COMPLETE(\n",
        "    'claude-4-sonnet',\n",
        "    'You are a Builder Agent for Cigna insurance claims. Generate a JSON claim for patient John Smith (PAT_001, DOB 1975-03-15, Male, Diabetes + Hypertension) requesting CBC (85025) for annual wellness screening. Must output ONLY valid JSON with claim_header, patient_info, claim_details, billing_info, supporting_documentation. No additional text.'\n",
        ") as BUILDER_AGENT_RESPONSE;\n"
      ]
    },
    {
      "cell_type": "markdown",
      "metadata": {},
      "source": [
        "## Step 3: Refined Builder Agent with Exact Schema\n",
        "\n",
        "Test with our exact JSON schema to ensure proper format compliance.\n"
      ]
    },
    {
      "cell_type": "code",
      "execution_count": null,
      "metadata": {
        "vscode": {
          "languageId": "sql"
        }
      },
      "outputs": [],
      "source": [
        "-- Test 2: Builder Agent with exact schema specification\n",
        "SELECT SNOWFLAKE.CORTEX.COMPLETE(\n",
        "    'claude-4-sonnet',\n",
        "    CONCAT(\n",
        "        'You are a Builder Agent for Cigna claims. Generate ONLY valid JSON following this EXACT schema: ',\n",
        "        (SELECT JSON_SCHEMA_TEXT FROM CLAIMS_DEMO.PUBLIC.INSURANCE_CLAIM_SCHEMA WHERE SCHEMA_VERSION = 'v1.0'),\n",
        "        ' Patient: John Smith (PAT_001), DOB 1975-03-15, Male, Diabetes+Hypertension, Cigna CGN123456789, CIGNA_GRP001. Procedure: 85025 CBC for wellness screening. Use today''s date. Include appropriate ICD-10 codes. No additional text - ONLY JSON.'\n",
        "    )\n",
        ") as SCHEMA_COMPLIANT_CLAIM;\n"
      ]
    },
    {
      "cell_type": "code",
      "execution_count": null,
      "metadata": {
        "vscode": {
          "languageId": "sql"
        }
      },
      "outputs": [],
      "source": [
        "-- Test 3: Builder Agent with full database context\n",
        "SELECT SNOWFLAKE.CORTEX.COMPLETE(\n",
        "    'claude-4-sonnet',\n",
        "    CONCAT(\n",
        "        (SELECT SYSTEM_PROMPT FROM CLAIMS_DEMO.PUBLIC.BUILDER_AGENT_CONFIG WHERE CONFIG_ID = 'BUILDER_V1'),\n",
        "        '\\n\\nPATIENT: ',\n",
        "        (SELECT FIRST_NAME || ' ' || LAST_NAME || ', DOB: ' || DATE_OF_BIRTH || ', Gender: ' || GENDER || ', Medical History: ' || MEDICAL_HISTORY_SUMMARY || ', Allergies: ' || ALLERGIES || ', Medications: ' || CURRENT_MEDICATIONS || ', Insurance: ' || INSURANCE_PROVIDER || ' ' || POLICY_NUMBER || ' ' || GROUP_NUMBER FROM CLAIMS_DEMO.PUBLIC.PATIENTS WHERE PATIENT_ID = 'PAT_001'),\n",
        "        '\\n\\nPROCEDURE: ',\n",
        "        (SELECT PROCEDURE_CODE || ' - ' || PROCEDURE_NAME || ' (' || MEDICAL_SPECIALTY || ') Cost: ' || TYPICAL_COST_RANGE || ' Coverage: ' || CIGNA_COVERAGE_NOTES FROM CLAIMS_DEMO.PUBLIC.COMMON_PROCEDURES WHERE PROCEDURE_CODE = '85025'),\n",
        "        '\\n\\nCLINICAL NOTES: Annual wellness screening for diabetic patient. Patient reports feeling well, good medication compliance.',\n",
        "        '\\n\\nJSON SCHEMA: ',\n",
        "        (SELECT JSON_SCHEMA_TEXT FROM CLAIMS_DEMO.PUBLIC.INSURANCE_CLAIM_SCHEMA WHERE SCHEMA_VERSION = 'v1.0'),\n",
        "        '\\n\\nOUTPUT: Return ONLY valid JSON claim. No explanations.'\n",
        "    )\n",
        ") as FULL_CONTEXT_CLAIM;\n"
      ]
    },
    {
      "cell_type": "markdown",
      "metadata": {},
      "source": [
        "## Step 4: JSON Validation Testing\n",
        "\n",
        "Verify that Builder Agent output can be properly parsed as JSON for frontend integration.\n"
      ]
    },
    {
      "cell_type": "code",
      "execution_count": null,
      "metadata": {
        "vscode": {
          "languageId": "sql"
        }
      },
      "outputs": [],
      "source": [
        "-- Test JSON parsing and validation\n",
        "WITH builder_output AS (\n",
        "    SELECT SNOWFLAKE.CORTEX.COMPLETE(\n",
        "        'claude-4-sonnet',\n",
        "        'You are a Builder Agent for Cigna. Generate ONLY valid JSON for: Patient John Smith (PAT_001, Male, 1975-03-15, Diabetes+Hypertension, Cigna CGN123456789) requesting CBC (85025) for wellness screening. Follow schema exactly: {\"claim_header\":{\"claim_id\":\"CLM-YYYY-XXXXXX\",\"patient_id\":\"PAT_001\",\"insurance_provider\":\"Cigna\"},\"patient_info\":{\"first_name\":\"John\",\"last_name\":\"Smith\"},\"claim_details\":{\"procedure_codes\":[\"85025\"]},\"billing_info\":{\"total_charges\":75.00}}. No extra text.'\n",
        "    ) as JSON_CLAIM\n",
        ")\n",
        "SELECT \n",
        "    JSON_CLAIM,\n",
        "    TRY_PARSE_JSON(JSON_CLAIM) as PARSED_JSON,\n",
        "    CASE WHEN TRY_PARSE_JSON(JSON_CLAIM) IS NOT NULL THEN 'VALID_JSON' ELSE 'INVALID_JSON' END as JSON_STATUS\n",
        "FROM builder_output;\n"
      ]
    },
    {
      "cell_type": "markdown",
      "metadata": {},
      "source": [
        "## Step 5: Feedback Loop Testing\n",
        "\n",
        "Test Builder Agent's ability to optimize claims based on Insurance Agent rebuttal feedback.\n"
      ]
    },
    {
      "cell_type": "code",
      "execution_count": null,
      "metadata": {
        "vscode": {
          "languageId": "sql"
        }
      },
      "outputs": [],
      "source": [
        "-- Store initial Builder Agent output for feedback testing\n",
        "INSERT INTO CLAIMS_DEMO.PUBLIC.AGENT_INTERACTIONS VALUES (\n",
        "    'INT_TEST_001',\n",
        "    'SESSION_TEST_001', \n",
        "    'BUILDER',\n",
        "    PARSE_JSON('{\"patient_id\": \"PAT_001\", \"procedure_code\": \"85025\", \"clinical_notes\": \"Annual wellness screening\"}'),\n",
        "    PARSE_JSON('{\"claim_header\":{\"claim_id\":\"CLM-2024-001\",\"patient_id\":\"PAT_001\",\"insurance_provider\":\"Cigna\"},\"claim_details\":{\"procedure_codes\":[\"85025\"]},\"billing_info\":{\"total_charges\":75.00}}'),\n",
        "    CURRENT_TIMESTAMP(),\n",
        "    'SUCCESS',\n",
        "    NULL\n",
        ");\n"
      ]
    },
    {
      "cell_type": "code",
      "execution_count": null,
      "metadata": {
        "vscode": {
          "languageId": "sql"
        }
      },
      "outputs": [],
      "source": [
        "-- Test Builder Agent optimization after simulated rebuttal\n",
        "SELECT SNOWFLAKE.CORTEX.COMPLETE(\n",
        "    'claude-4-sonnet',\n",
        "    CONCAT(\n",
        "        (SELECT PROMPT_TEXT FROM CLAIMS_DEMO.PUBLIC.CLAIM_GENERATION_PROMPTS WHERE PROMPT_ID = 'REBUTTAL_RESPONSE'),\n",
        "        '\\n\\nORIGINAL CLAIM: {\"claim_header\":{\"claim_id\":\"CLM-2024-001\",\"patient_id\":\"PAT_001\"},\"claim_details\":{\"procedure_codes\":[\"85025\"]}}',\n",
        "        '\\n\\nINSURANCE AGENT REBUTTAL: CLAIM DENIED - Medical necessity not established. Insufficient documentation for preventive CBC in diabetic patient. Please provide physician notes justifying medical necessity per Cigna policy section 4.1.',\n",
        "        '\\n\\nSTRENGTH SCORE: 25/100',\n",
        "        '\\n\\nOUTPUT: Return ONLY improved JSON claim addressing the medical necessity issue.'\n",
        "    )\n",
        ") as OPTIMIZED_CLAIM;\n"
      ]
    },
    {
      "cell_type": "markdown",
      "metadata": {},
      "source": [
        "## Step 6: Builder Agent Function Creation\n",
        "\n",
        "Create a reusable function that encapsulates the complete Builder Agent workflow.\n"
      ]
    },
    {
      "cell_type": "code",
      "execution_count": null,
      "metadata": {
        "vscode": {
          "languageId": "sql"
        }
      },
      "outputs": [],
      "source": [
        "-- Create Builder Agent workflow function using Claude Sonnet\n",
        "CREATE OR REPLACE FUNCTION CLAIMS_DEMO.PUBLIC.BUILDER_AGENT_GENERATE_CLAIM(\n",
        "    patient_id VARCHAR,\n",
        "    procedure_code VARCHAR,\n",
        "    clinical_notes VARCHAR\n",
        ")\n",
        "RETURNS VARIANT\n",
        "LANGUAGE SQL\n",
        "AS\n",
        "$$\n",
        "    SELECT PARSE_JSON(\n",
        "        SNOWFLAKE.CORTEX.COMPLETE(\n",
        "            'claude-4-sonnet',\n",
        "            CONCAT(\n",
        "                (SELECT SYSTEM_PROMPT FROM CLAIMS_DEMO.PUBLIC.BUILDER_AGENT_CONFIG WHERE CONFIG_ID = 'BUILDER_V1'),\n",
        "                '\\n\\nPATIENT: ',\n",
        "                (SELECT FIRST_NAME || ' ' || LAST_NAME || ', DOB: ' || DATE_OF_BIRTH || ', Gender: ' || GENDER || ', Medical History: ' || MEDICAL_HISTORY_SUMMARY || ', Allergies: ' || ALLERGIES || ', Medications: ' || CURRENT_MEDICATIONS || ', Insurance: ' || INSURANCE_PROVIDER || ' ' || POLICY_NUMBER || ' ' || GROUP_NUMBER FROM CLAIMS_DEMO.PUBLIC.PATIENTS WHERE PATIENT_ID = patient_id),\n",
        "                '\\n\\nPROCEDURE: ',\n",
        "                (SELECT PROCEDURE_CODE || ' - ' || PROCEDURE_NAME || ' (' || MEDICAL_SPECIALTY || ') Cost: ' || TYPICAL_COST_RANGE || ' Coverage: ' || CIGNA_COVERAGE_NOTES FROM CLAIMS_DEMO.PUBLIC.COMMON_PROCEDURES WHERE PROCEDURE_CODE = procedure_code),\n",
        "                '\\n\\nCLINICAL NOTES: ', clinical_notes,\n",
        "                '\\n\\nJSON SCHEMA: ',\n",
        "                (SELECT JSON_SCHEMA_TEXT FROM CLAIMS_DEMO.PUBLIC.INSURANCE_CLAIM_SCHEMA WHERE SCHEMA_VERSION = 'v1.0'),\n",
        "                '\\n\\nOUTPUT: Return ONLY valid JSON claim. No explanations.'\n",
        "            )\n",
        "        )\n",
        "    )\n",
        "$$;\n"
      ]
    },
    {
      "cell_type": "markdown",
      "metadata": {},
      "source": [
        "## Step 7: End-to-End Workflow Test\n",
        "\n",
        "Test the complete Provider → Builder Agent → Insurance Agent → Optimization workflow.\n"
      ]
    },
    {
      "cell_type": "code",
      "execution_count": null,
      "metadata": {
        "vscode": {
          "languageId": "sql"
        }
      },
      "outputs": [],
      "source": [
        "-- Test complete workflow: Generate claim using Builder Agent with Claude Sonnet\n",
        "SELECT \n",
        "    'PAT_001' as PATIENT_ID,\n",
        "    '85025' as PROCEDURE_CODE,\n",
        "    'Annual wellness screening - patient requests routine labs' as CLINICAL_NOTES,\n",
        "    SNOWFLAKE.CORTEX.COMPLETE(\n",
        "        'claude-4-sonnet', \n",
        "        CONCAT(\n",
        "            'Builder Agent for Cigna: Generate JSON claim for John Smith (PAT_001, 1975-03-15, Male, Diabetes+Hypertension, Cigna CGN123456789) requesting CBC (85025). Clinical: Annual wellness screening. Must follow JSON schema with claim_header, patient_info, claim_details, billing_info, supporting_documentation. ONLY JSON output.'\n",
        "        )\n",
        "    ) as GENERATED_CLAIM;\n"
      ]
    },
    {
      "cell_type": "markdown",
      "metadata": {},
      "source": [
        "## Step 8: Verification & Next Steps\n",
        "\n",
        "Verify Builder Agent configuration is complete and ready for Insurance Agent integration.\n"
      ]
    },
    {
      "cell_type": "code",
      "execution_count": null,
      "metadata": {
        "vscode": {
          "languageId": "sql"
        }
      },
      "outputs": [],
      "source": [
        "-- Final verification: Builder Agent capabilities confirmed\n",
        "SELECT \n",
        "    'BUILDER_AGENT_CONFIGURED' as STATUS,\n",
        "    'JSON_OUTPUT_VALIDATED' as JSON_STATUS,\n",
        "    'OPTIMIZATION_LOOP_TESTED' as FEEDBACK_STATUS,\n",
        "    'READY_FOR_INSURANCE_AGENT' as NEXT_PHASE;\n",
        "\n",
        "-- Test different patient scenarios  \n",
        "SELECT \n",
        "    PATIENT_ID,\n",
        "    FIRST_NAME || ' ' || LAST_NAME as PATIENT_NAME,\n",
        "    MEDICAL_HISTORY_SUMMARY,\n",
        "    'Ready for Builder Agent claim generation' as STATUS\n",
        "FROM CLAIMS_DEMO.PUBLIC.PATIENTS\n",
        "ORDER BY PATIENT_ID;\n"
      ]
    }
  ],
  "metadata": {
    "language_info": {
      "name": "python"
    }
  },
  "nbformat": 4,
  "nbformat_minor": 2
}
