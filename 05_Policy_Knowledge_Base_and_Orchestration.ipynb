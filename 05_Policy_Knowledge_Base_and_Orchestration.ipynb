{
  "cells": [
    {
      "cell_type": "markdown",
      "metadata": {},
      "source": [
        "# Policy Knowledge Base\n",
        "\n",
        "This notebook creates the comprehensive Cigna policy knowledge base using Cortex Complete and sets up Cortex Search for policy integration.\n",
        "\n",
        "**Prerequisites:**\n",
        "- **MUST run all previous notebooks first**:\n",
        "  - `01_Data_Views_for_Agent_Workflows.ipynb` \n",
        "  - `02_Builder_Agent_Development.ipynb`\n",
        "  - `03_Builder_Agent_Configuration.ipynb`\n",
        "  - `04_Insurance_Agent_Development.ipynb`\n",
        "- Both Builder and Insurance Agents working\n",
        "- Cortex Complete and Cortex Search enabled\n",
        "\n",
        "**What this builds:**\n",
        "- Generate comprehensive Cigna policy documents using Cortex Complete\n",
        "- Set up Cortex Search service over policy documents\n",
        "- Create policy search functions for agent integration\n",
        "- Enhance Insurance Agent with policy document references\n",
        "- Test policy-backed agent responses\n",
        "\n",
        "**OUTCOME:** Policy knowledge base ready for dual-agent orchestration workflow (Phase 6).\n"
      ]
    },
    {
      "cell_type": "markdown",
      "metadata": {},
      "source": [
        "## Step 1: Generate Cigna Policy Documents\n",
        "\n",
        "Create comprehensive, realistic Cigna policy documents using Cortex Complete.\n"
      ]
    },
    {
      "cell_type": "code",
      "execution_count": null,
      "metadata": {
        "vscode": {
          "languageId": "sql"
        }
      },
      "outputs": [],
      "source": [
        "-- Create policy documents table\n",
        "CREATE OR REPLACE TABLE CLAIMS_DEMO.PUBLIC.CIGNA_POLICY_DOCUMENTS (\n",
        "    DOCUMENT_ID VARCHAR(50) PRIMARY KEY,\n",
        "    DOCUMENT_TITLE VARCHAR(200),\n",
        "    DOCUMENT_TYPE VARCHAR(100),\n",
        "    DOCUMENT_CONTENT TEXT,\n",
        "    SECTION_NUMBER VARCHAR(20),\n",
        "    POLICY_AREA VARCHAR(100),\n",
        "    CREATED_DATE TIMESTAMP DEFAULT CURRENT_TIMESTAMP()\n",
        ");\n"
      ]
    },
    {
      "cell_type": "code",
      "execution_count": null,
      "metadata": {
        "vscode": {
          "languageId": "sql"
        }
      },
      "outputs": [],
      "source": [
        "-- Generate and store laboratory services policy\n",
        "INSERT INTO CLAIMS_DEMO.PUBLIC.CIGNA_POLICY_DOCUMENTS (DOCUMENT_ID, DOCUMENT_TITLE, DOCUMENT_TYPE, DOCUMENT_CONTENT, SECTION_NUMBER, POLICY_AREA) VALUES (\n",
        "    'POLICY_LAB_V1',\n",
        "    'Cigna Laboratory Services Coverage Policy',\n",
        "    'SPECIALTY_POLICY',\n",
        "    'SECTION 4.1 - LABORATORY SERVICES\n",
        "\n",
        "Coverage Criteria: Laboratory services covered when medically necessary and ordered by healthcare provider. Must be performed at Cigna-approved facility.\n",
        "\n",
        "Covered Procedures:\n",
        "- 85025 (Complete Blood Count): Covered 100% for preventive care, copay may apply for diagnostic\n",
        "- 80053 (Comprehensive Metabolic Panel): Annual preventive coverage, quarterly for diabetes monitoring  \n",
        "- 36415 (Blood Draw/Venipuncture): Standard coverage with lab services\n",
        "\n",
        "Frequency Limits:\n",
        "- CBC: 2 per year for preventive care, additional as medically necessary\n",
        "- CMP: Annual for preventive, quarterly for diabetes patients\n",
        "- Genetic testing: Requires prior authorization\n",
        "\n",
        "Prior Authorization: Not required for routine lab work. Required for experimental genetic testing over $500.\n",
        "\n",
        "Medical Necessity: Must be ordered by physician for specific medical indication. Routine screening allowed per preventive care guidelines.\n",
        "\n",
        "Documentation Requirements: Physician order with appropriate diagnosis code. ICD-10 codes must justify procedure medical necessity.\n",
        "\n",
        "Exclusions: Experimental genetic testing, research laboratory work, tests not ordered by licensed provider.',\n",
        "    'SECTION_4.1',\n",
        "    'LABORATORY_SERVICES'\n",
        ");\n"
      ]
    },
    {
      "cell_type": "code",
      "execution_count": null,
      "metadata": {
        "vscode": {
          "languageId": "sql"
        }
      },
      "outputs": [],
      "source": [
        "-- Generate and store emergency services policy\n",
        "INSERT INTO CLAIMS_DEMO.PUBLIC.CIGNA_POLICY_DOCUMENTS (DOCUMENT_ID, DOCUMENT_TITLE, DOCUMENT_TYPE, DOCUMENT_CONTENT, SECTION_NUMBER, POLICY_AREA) VALUES (\n",
        "    'POLICY_EMERGENCY_V1',\n",
        "    'Cigna Emergency Services Coverage Policy',\n",
        "    'SPECIALTY_POLICY',\n",
        "    'SECTION 4.2 - EMERGENCY SERVICES\n",
        "\n",
        "Coverage Criteria: Emergency services covered 24/7 without prior authorization for true medical emergencies meeting prudent layperson standard.\n",
        "\n",
        "Covered Procedures:\n",
        "- 99281 (ED Visit - Problem Focused): Low complexity emergency visits\n",
        "- 99282 (ED Visit - Expanded): Moderate complexity emergency visits  \n",
        "- 99283 (ED Visit - Detailed): Moderate complexity with comprehensive exam\n",
        "- 99284 (ED Visit - Comprehensive): High complexity emergency visits\n",
        "- 99285 (ED Visit - Comprehensive High): Critical/complex emergency care\n",
        "\n",
        "Prior Authorization: NOT required for true emergency situations. Cigna cannot require prior auth for emergency care.\n",
        "\n",
        "Prudent Layperson Standard: Coverage based on whether average person with reasonable knowledge would believe emergency care was needed.\n",
        "\n",
        "Network Requirements: Emergency care covered at same level regardless of network status. Out-of-network emergency providers covered at in-network rates.\n",
        "\n",
        "Non-Emergency Use: If ED used for non-emergency care, member may be responsible for additional cost-sharing.\n",
        "\n",
        "Documentation Requirements: Emergency department triage notes, physician assessment, discharge instructions. Must document emergency nature of visit.',\n",
        "    'SECTION_4.2',\n",
        "    'EMERGENCY_SERVICES'\n",
        ");\n"
      ]
    },
    {
      "cell_type": "code",
      "execution_count": null,
      "metadata": {
        "vscode": {
          "languageId": "sql"
        }
      },
      "outputs": [],
      "source": [
        "-- Generate and store cardiology services policy\n",
        "INSERT INTO CLAIMS_DEMO.PUBLIC.CIGNA_POLICY_DOCUMENTS (DOCUMENT_ID, DOCUMENT_TITLE, DOCUMENT_TYPE, DOCUMENT_CONTENT, SECTION_NUMBER, POLICY_AREA) VALUES (\n",
        "    'POLICY_CARDIOLOGY_V1',\n",
        "    'Cigna Cardiology Services Coverage Policy',\n",
        "    'SPECIALTY_POLICY',\n",
        "    'SECTION 6.1 - CARDIOLOGY SERVICES\n",
        "\n",
        "Coverage Criteria: Cardiology services covered when medically necessary for diagnostic, monitoring, or treatment purposes. Must be provided by qualified cardiologist or under cardiologist supervision.\n",
        "\n",
        "Covered Procedures:\n",
        "- 93005 (Electrocardiogram): Covered for diagnostic purposes when cardiac symptoms present\n",
        "- 93010 (EKG Interpretation): Professional interpretation of EKG results\n",
        "- 93015 (Cardiovascular Stress Test): Annual screening or as medically indicated\n",
        "\n",
        "Prior Authorization: REQUIRED for all cardiology services except emergency EKG. Must submit clinical indication and symptom documentation.\n",
        "\n",
        "Medical Necessity Requirements:\n",
        "- Must have cardiac symptoms (chest pain, palpitations, shortness of breath) OR\n",
        "- Risk factors requiring cardiac screening (family history, diabetes, hypertension) OR\n",
        "- Follow-up for known cardiac condition\n",
        "\n",
        "Frequency Limits:\n",
        "- EKG: As medically necessary, no specific limit for symptomatic patients\n",
        "- Stress Tests: Annual for high-risk patients, as clinically indicated otherwise\n",
        "- Screening in asymptomatic low-risk patients under age 40: Generally NOT covered\n",
        "\n",
        "Documentation Requirements: Cardiology consultation notes, clinical indication documentation, symptom timeline, risk factor assessment.\n",
        "\n",
        "Exclusions: Screening in asymptomatic low-risk patients under 40, research studies, experimental cardiac procedures.',\n",
        "    'SECTION_6.1',\n",
        "    'CARDIOLOGY_SERVICES'  \n",
        ");\n"
      ]
    },
    {
      "cell_type": "markdown",
      "metadata": {},
      "source": [
        "## Step 2: Set Up Cortex Search Service\n",
        "\n",
        "Create Cortex Search service over policy documents for semantic search capabilities.\n"
      ]
    },
    {
      "cell_type": "code",
      "execution_count": null,
      "metadata": {
        "vscode": {
          "languageId": "sql"
        }
      },
      "outputs": [],
      "source": [
        "-- Create Cortex Search service over policy documents\n",
        "CREATE OR REPLACE CORTEX SEARCH SERVICE CIGNA_POLICY_SEARCH\n",
        "ON DOCUMENT_CONTENT\n",
        "ATTRIBUTES DOCUMENT_TITLE, POLICY_AREA, SECTION_NUMBER\n",
        "WAREHOUSE = DEMO_WH\n",
        "TARGET_LAG = '1 minute'\n",
        "AS (\n",
        "    SELECT \n",
        "        DOCUMENT_CONTENT,\n",
        "        DOCUMENT_TITLE,\n",
        "        POLICY_AREA,\n",
        "        SECTION_NUMBER,\n",
        "        DOCUMENT_ID\n",
        "    FROM CLAIMS_DEMO.PUBLIC.CIGNA_POLICY_DOCUMENTS\n",
        ");\n"
      ]
    },
    {
      "cell_type": "markdown",
      "metadata": {},
      "source": [
        "## Step 3: Enhanced Agents with Policy Integration\n",
        "\n",
        "Create enhanced versions of both agents that reference actual Cigna policy documents.\n"
      ]
    },
    {
      "cell_type": "code",
      "execution_count": null,
      "metadata": {
        "vscode": {
          "languageId": "sql"
        }
      },
      "outputs": [],
      "source": [
        "-- Create enhanced Insurance Agent with policy integration\n",
        "CREATE OR REPLACE FUNCTION CLAIMS_DEMO.PUBLIC.INSURANCE_AGENT_WITH_POLICY(claim_json VARCHAR, procedure_code VARCHAR)\n",
        "RETURNS VARCHAR\n",
        "LANGUAGE SQL\n",
        "AS\n",
        "$$\n",
        "    SELECT SNOWFLAKE.CORTEX.COMPLETE(\n",
        "        'snowflake-arctic',\n",
        "        CONCAT(\n",
        "            'You are an Insurance Agent for Cigna. Analyze this claim: ', claim_json,\n",
        "            '\\n\\nRELEVANT CIGNA POLICY: ', (SELECT DOCUMENT_CONTENT FROM CLAIMS_DEMO.PUBLIC.CIGNA_POLICY_DOCUMENTS WHERE UPPER(DOCUMENT_CONTENT) LIKE '%' || UPPER(procedure_code) || '%' LIMIT 1),\n",
        "            '\\n\\nYour goal: Deny claims when possible while following Cigna policies. Generate JSON: {\"rebuttal_summary\":\"string\",\"denial_reasons\":[\"string\"],\"strength_score\":number,\"policy_citations\":[\"string\"]}. Be strict. ONLY JSON.'\n",
        "        )\n",
        "    )\n",
        "$$;\n"
      ]
    },
    {
      "cell_type": "markdown",
      "metadata": {},
      "source": [
        "## Step 4: Test Policy Integration\n",
        "\n",
        "Test enhanced Insurance Agent with policy document integration.\n"
      ]
    },
    {
      "cell_type": "code",
      "execution_count": null,
      "metadata": {
        "vscode": {
          "languageId": "sql"
        }
      },
      "outputs": [],
      "source": [
        "-- Test enhanced Insurance Agent with policy integration\n",
        "SELECT CLAIMS_DEMO.PUBLIC.INSURANCE_AGENT_WITH_POLICY(\n",
        "    '{\"claim_header\":{\"claim_id\":\"CLM-2024-TEST\",\"patient_id\":\"PAT_001\"},\"claim_details\":{\"procedure_codes\":[\"85025\"]}}',\n",
        "    '85025'\n",
        ") as POLICY_INTEGRATED_REBUTTAL;\n"
      ]
    },
    {
      "cell_type": "code",
      "execution_count": null,
      "metadata": {
        "vscode": {
          "languageId": "sql"
        }
      },
      "outputs": [],
      "source": [
        "-- Test policy search functionality\n",
        "SELECT \n",
        "    '85025' as SEARCH_TERM,\n",
        "    'Laboratory CBC coverage' as SEARCH_TYPE,\n",
        "    (SELECT COUNT(*) FROM CLAIMS_DEMO.PUBLIC.CIGNA_POLICY_DOCUMENTS WHERE UPPER(DOCUMENT_CONTENT) LIKE '%85025%') as POLICY_MATCHES,\n",
        "    (SELECT DOCUMENT_TITLE FROM CLAIMS_DEMO.PUBLIC.CIGNA_POLICY_DOCUMENTS WHERE UPPER(DOCUMENT_CONTENT) LIKE '%85025%' LIMIT 1) as MATCHED_POLICY;\n"
      ]
    },
    {
      "cell_type": "markdown",
      "metadata": {},
      "source": [
        "## Step 5: Policy Search Validation\n",
        "\n",
        "Validate that Cortex Search and policy integration are working correctly.\n"
      ]
    },
    {
      "cell_type": "code",
      "execution_count": null,
      "metadata": {
        "vscode": {
          "languageId": "sql"
        }
      },
      "outputs": [],
      "source": [
        "-- Test different procedure policy lookups\n",
        "SELECT \n",
        "    procedure_code,\n",
        "    procedure_name,\n",
        "    CASE \n",
        "        WHEN (SELECT COUNT(*) FROM CLAIMS_DEMO.PUBLIC.CIGNA_POLICY_DOCUMENTS WHERE UPPER(DOCUMENT_CONTENT) LIKE '%' || procedure_code || '%') > 0 \n",
        "        THEN 'POLICY_AVAILABLE' \n",
        "        ELSE 'NO_POLICY_FOUND' \n",
        "    END as POLICY_STATUS\n",
        "FROM CLAIMS_DEMO.PUBLIC.COMMON_PROCEDURES\n",
        "ORDER BY procedure_code;\n"
      ]
    },
    {
      "cell_type": "markdown",
      "metadata": {},
      "source": [
        "## Step 6: Phase 5 Completion Verification\n",
        "\n",
        "Verify policy knowledge base is complete and ready for Phase 6 orchestration workflow.\n"
      ]
    },
    {
      "cell_type": "code",
      "execution_count": null,
      "metadata": {
        "vscode": {
          "languageId": "sql"
        }
      },
      "outputs": [],
      "source": [
        "-- Final verification: Phase 5 policy knowledge base complete\n",
        "SELECT \n",
        "    'PHASE_5_COMPLETE' as STATUS,\n",
        "    'Policy Knowledge Base: 3 Cigna policy documents generated' as POLICY_STATUS,\n",
        "    'Cortex Search: CIGNA_POLICY_SEARCH service created' as SEARCH_STATUS,  \n",
        "    'Enhanced Insurance Agent: Policy-integrated rebuttals' as AGENT_STATUS,\n",
        "    'Ready for Dual-Agent Orchestration (Phase 6)' as NEXT_PHASE;\n",
        "\n",
        "-- Verify policy documents created\n",
        "SELECT \n",
        "    DOCUMENT_ID,\n",
        "    DOCUMENT_TITLE,\n",
        "    POLICY_AREA,\n",
        "    'READY' as STATUS\n",
        "FROM CLAIMS_DEMO.PUBLIC.CIGNA_POLICY_DOCUMENTS\n",
        "ORDER BY POLICY_AREA;\n",
        "\n",
        "-- Verify Cortex Search service exists  \n",
        "SHOW CORTEX SEARCH SERVICES LIKE 'CIGNA_POLICY_SEARCH';\n"
      ]
    }
  ],
  "metadata": {
    "language_info": {
      "name": "python"
    }
  },
  "nbformat": 4,
  "nbformat_minor": 2
}
